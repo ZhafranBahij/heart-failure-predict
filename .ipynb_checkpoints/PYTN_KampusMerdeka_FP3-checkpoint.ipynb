{
 "cells": [
  {
   "cell_type": "markdown",
   "metadata": {
    "id": "Sze21cPpEJLK"
   },
   "source": [
    "<img src = \"https://rec-data.kalibrr.com/www.kalibrr.ph/logos/SSYTB3EN2CEV9HZDWPPE4JHP8X2T7CNC6SDZST8Y-5d0b4f4b.png\" width = 600>"
   ]
  },
  {
   "cell_type": "markdown",
   "metadata": {
    "id": "pxi1SVhtEimC"
   },
   "source": [
    "# Introduction"
   ]
  },
  {
   "cell_type": "markdown",
   "metadata": {
    "id": "3tfqUzA7u2ye"
   },
   "source": []
  },
  {
   "cell_type": "markdown",
   "metadata": {
    "id": "45456bZVF0Kz"
   },
   "source": [
    "## Project Overview\n",
    "Data ini memiliki 13 atribut. Prediksi keselamatan pasien dari penyakit jantung.\n",
    "\n",
    "#### Attribute Information:\n",
    "1. age - umur pasien\n",
    "2. anaemia - apakah ada pengurangan haemoglobin\n",
    "3. creatinine_phosphokinase - level enzim CPK dalam mcg/L\n",
    "4. diabetes - apakah pasien punya riwayat diabetes\n",
    "5. ejection_fraction - persentase darah yang meninggalkan jantung dalam persentasi\n",
    "di setiap kontraksi jantung\n",
    "6. high_blood_pressure - apakah pasien punya darah tinggi\n",
    "7. platelets - jumlah platelet di darah dalam kiloplatelets/mL\n",
    "8. serum_creatinine - level serum creatinine di darah dalam mg/dL\n",
    "9. serum_sodium - level serum sodium di darah dalam mEq/L\n",
    "10. sex - apakah pasien pria atau wanita\n",
    "11. smoking - apakah pasien merokok\n",
    "12. time - waktu dalam hari untuk follow-up\n",
    "13. DEATH_EVENT - apakah pasien sudah meninggal saat waktu follow-up\n",
    "\n",
    "#### Starting from Scratch\n",
    "Tidak ada template untuk assignment kali ini, jadi kalian harus memulai dari awal. Kamu\n",
    "dapat membuat file jupyter notebook kamu sendiri dan upload ke github ketika selesai:\n",
    "1. Download Dataset yang diperlukan di sini <a href=\"https://www.kaggle.com/datasets/andrewmvd/heart-failure-clinical-data\"><b> klik disini</b></a>, lalu save ke folder\n",
    "/dataset.\n",
    "2. Buat sebuah Notebook baru, lalu rename file menjadi\n",
    "“PYTN_KampusMerdeka_fp3_<nama>\".\n",
    "3. Bersihkan dan preproses Dataset kamu.\n",
    "4. Bangun model menggunakan Logistic Regression, KNN, SVM, Naive Bayes,\n",
    "Decision Tree, dan Random Forest, atau teknik lainnya.\n",
    "5. Pilih 1 algoritma yang kamu anggap paling sesuai lalu jelaskan mengapa.\n",
    "6. Kumpulkan informasi melalui analisis kamu."
   ]
  },
  {
   "cell_type": "markdown",
   "metadata": {
    "id": "5GiS1APcEllK"
   },
   "source": [
    "**Kelompok - Final Project 3 (Introduction to Python Kampus Merdeka)**<br>\n",
    "\n",
    "Anggota Kelompok:\n",
    "\n",
    "1. M. Ihwanul Iqbal<br>\n",
    "PYTN-KS05-004\n",
    "\n",
    "2. Muhammad Zhafran Bahij<br>\n",
    "PYTN-KS05-008\n",
    "\n",
    "**Latar Belakang**<br>\n",
    "Penyakit Cardiovascular (CVDs) adalah penyebab kematian nomor 1 secara global, mengambil sekitar 17,9 juta jiwa setiap tahun, yang menyumbang 31% dari semua kematian di seluruh dunia. Gagal jantung adalah kejadian umum yang disebabkan oleh CVD dan kumpulan data ini berisi 12 fitur yang dapat digunakan untuk memprediksi kematian akibat gagal jantung.\n",
    "\n",
    "Sebagian besar penyakit Cardiovascular dapat dicegah dengan mengatasi faktor risiko perilaku seperti penggunaan tembakau, diet tidak sehat dan obesitas, kurangnya aktivitas fisik, dan penggunaan alkohol yang berbahaya menggunakan strategi di seluruh populasi.\n",
    "\n",
    "Orang dengan penyakit Cardiovascular atau yang berada pada risiko kardiovaskular tinggi (karena adanya satu atau lebih faktor risiko seperti hipertensi, diabetes, hiperlipidemia atau penyakit yang sudah ada) memerlukan deteksi dan manajemen dini di mana model pembelajaran mesin dapat sangat membantu.\n",
    "\n",
    "**Data yang digunakan**<br>\n"
   ]
  },
  {
   "cell_type": "code",
   "execution_count": 4,
   "metadata": {
    "ExecuteTime": {
     "end_time": "2022-05-25T07:10:55.176892Z",
     "start_time": "2022-05-25T07:06:08.019066Z"
    },
    "id": "7MV5zcCfGurb"
   },
   "outputs": [
    {
     "name": "stderr",
     "output_type": "stream",
     "text": [
      "ERROR: Exception:\n",
      "Traceback (most recent call last):\n",
      "  File \"C:\\users\\zhafran\\appdata\\local\\programs\\python\\python39\\lib\\site-packages\\pip\\_vendor\\urllib3\\response.py\", line 438, in _error_catcher\n",
      "    yield\n",
      "  File \"C:\\users\\zhafran\\appdata\\local\\programs\\python\\python39\\lib\\site-packages\\pip\\_vendor\\urllib3\\response.py\", line 519, in read\n",
      "    data = self._fp.read(amt) if not fp_closed else b\"\"\n",
      "  File \"C:\\users\\zhafran\\appdata\\local\\programs\\python\\python39\\lib\\site-packages\\pip\\_vendor\\cachecontrol\\filewrapper.py\", line 90, in read\n",
      "    data = self.__fp.read(amt)\n",
      "  File \"C:\\users\\zhafran\\appdata\\local\\programs\\python\\python39\\lib\\http\\client.py\", line 458, in read\n",
      "    n = self.readinto(b)\n",
      "  File \"C:\\users\\zhafran\\appdata\\local\\programs\\python\\python39\\lib\\http\\client.py\", line 502, in readinto\n",
      "    n = self.fp.readinto(b)\n",
      "  File \"C:\\users\\zhafran\\appdata\\local\\programs\\python\\python39\\lib\\socket.py\", line 704, in readinto\n",
      "    return self._sock.recv_into(b)\n",
      "  File \"C:\\users\\zhafran\\appdata\\local\\programs\\python\\python39\\lib\\ssl.py\", line 1241, in recv_into\n",
      "    return self.read(nbytes, buffer)\n",
      "  File \"C:\\users\\zhafran\\appdata\\local\\programs\\python\\python39\\lib\\ssl.py\", line 1099, in read\n",
      "    return self._sslobj.read(len, buffer)\n",
      "socket.timeout: The read operation timed out\n",
      "\n",
      "During handling of the above exception, another exception occurred:\n",
      "\n",
      "Traceback (most recent call last):\n",
      "  File \"C:\\users\\zhafran\\appdata\\local\\programs\\python\\python39\\lib\\site-packages\\pip\\_internal\\cli\\base_command.py\", line 167, in exc_logging_wrapper\n",
      "    status = run_func(*args)\n",
      "  File \"C:\\users\\zhafran\\appdata\\local\\programs\\python\\python39\\lib\\site-packages\\pip\\_internal\\cli\\req_command.py\", line 205, in wrapper\n",
      "    return func(self, options, args)\n",
      "  File \"C:\\users\\zhafran\\appdata\\local\\programs\\python\\python39\\lib\\site-packages\\pip\\_internal\\commands\\install.py\", line 339, in run\n",
      "    requirement_set = resolver.resolve(\n",
      "  File \"C:\\users\\zhafran\\appdata\\local\\programs\\python\\python39\\lib\\site-packages\\pip\\_internal\\resolution\\resolvelib\\resolver.py\", line 94, in resolve\n",
      "    result = self._result = resolver.resolve(\n",
      "  File \"C:\\users\\zhafran\\appdata\\local\\programs\\python\\python39\\lib\\site-packages\\pip\\_vendor\\resolvelib\\resolvers.py\", line 481, in resolve\n",
      "    state = resolution.resolve(requirements, max_rounds=max_rounds)\n",
      "  File \"C:\\users\\zhafran\\appdata\\local\\programs\\python\\python39\\lib\\site-packages\\pip\\_vendor\\resolvelib\\resolvers.py\", line 348, in resolve\n",
      "    self._add_to_criteria(self.state.criteria, r, parent=None)\n",
      "  File \"C:\\users\\zhafran\\appdata\\local\\programs\\python\\python39\\lib\\site-packages\\pip\\_vendor\\resolvelib\\resolvers.py\", line 172, in _add_to_criteria\n",
      "    if not criterion.candidates:\n",
      "  File \"C:\\users\\zhafran\\appdata\\local\\programs\\python\\python39\\lib\\site-packages\\pip\\_vendor\\resolvelib\\structs.py\", line 151, in __bool__\n",
      "    return bool(self._sequence)\n",
      "  File \"C:\\users\\zhafran\\appdata\\local\\programs\\python\\python39\\lib\\site-packages\\pip\\_internal\\resolution\\resolvelib\\found_candidates.py\", line 155, in __bool__\n",
      "    return any(self)\n",
      "  File \"C:\\users\\zhafran\\appdata\\local\\programs\\python\\python39\\lib\\site-packages\\pip\\_internal\\resolution\\resolvelib\\found_candidates.py\", line 143, in <genexpr>\n",
      "    return (c for c in iterator if id(c) not in self._incompatible_ids)\n",
      "  File \"C:\\users\\zhafran\\appdata\\local\\programs\\python\\python39\\lib\\site-packages\\pip\\_internal\\resolution\\resolvelib\\found_candidates.py\", line 47, in _iter_built\n",
      "    candidate = func()\n",
      "  File \"C:\\users\\zhafran\\appdata\\local\\programs\\python\\python39\\lib\\site-packages\\pip\\_internal\\resolution\\resolvelib\\factory.py\", line 215, in _make_candidate_from_link\n",
      "    self._link_candidate_cache[link] = LinkCandidate(\n",
      "  File \"C:\\users\\zhafran\\appdata\\local\\programs\\python\\python39\\lib\\site-packages\\pip\\_internal\\resolution\\resolvelib\\candidates.py\", line 288, in __init__\n",
      "    super().__init__(\n",
      "  File \"C:\\users\\zhafran\\appdata\\local\\programs\\python\\python39\\lib\\site-packages\\pip\\_internal\\resolution\\resolvelib\\candidates.py\", line 158, in __init__\n",
      "    self.dist = self._prepare()\n",
      "  File \"C:\\users\\zhafran\\appdata\\local\\programs\\python\\python39\\lib\\site-packages\\pip\\_internal\\resolution\\resolvelib\\candidates.py\", line 227, in _prepare\n",
      "    dist = self._prepare_distribution()\n",
      "  File \"C:\\users\\zhafran\\appdata\\local\\programs\\python\\python39\\lib\\site-packages\\pip\\_internal\\resolution\\resolvelib\\candidates.py\", line 299, in _prepare_distribution\n",
      "    return preparer.prepare_linked_requirement(self._ireq, parallel_builds=True)\n",
      "  File \"C:\\users\\zhafran\\appdata\\local\\programs\\python\\python39\\lib\\site-packages\\pip\\_internal\\operations\\prepare.py\", line 487, in prepare_linked_requirement\n",
      "    return self._prepare_linked_requirement(req, parallel_builds)\n",
      "  File \"C:\\users\\zhafran\\appdata\\local\\programs\\python\\python39\\lib\\site-packages\\pip\\_internal\\operations\\prepare.py\", line 532, in _prepare_linked_requirement\n",
      "    local_file = unpack_url(\n",
      "  File \"C:\\users\\zhafran\\appdata\\local\\programs\\python\\python39\\lib\\site-packages\\pip\\_internal\\operations\\prepare.py\", line 214, in unpack_url\n",
      "    file = get_http_url(\n",
      "  File \"C:\\users\\zhafran\\appdata\\local\\programs\\python\\python39\\lib\\site-packages\\pip\\_internal\\operations\\prepare.py\", line 94, in get_http_url\n",
      "    from_path, content_type = download(link, temp_dir.path)\n",
      "  File \"C:\\users\\zhafran\\appdata\\local\\programs\\python\\python39\\lib\\site-packages\\pip\\_internal\\network\\download.py\", line 146, in __call__\n",
      "    for chunk in chunks:\n",
      "  File \"C:\\users\\zhafran\\appdata\\local\\programs\\python\\python39\\lib\\site-packages\\pip\\_internal\\cli\\progress_bars.py\", line 304, in _rich_progress_bar\n",
      "    for chunk in iterable:\n",
      "  File \"C:\\users\\zhafran\\appdata\\local\\programs\\python\\python39\\lib\\site-packages\\pip\\_internal\\network\\utils.py\", line 63, in response_chunks\n",
      "    for chunk in response.raw.stream(\n",
      "  File \"C:\\users\\zhafran\\appdata\\local\\programs\\python\\python39\\lib\\site-packages\\pip\\_vendor\\urllib3\\response.py\", line 576, in stream\n",
      "    data = self.read(amt=amt, decode_content=decode_content)\n",
      "  File \"C:\\users\\zhafran\\appdata\\local\\programs\\python\\python39\\lib\\site-packages\\pip\\_vendor\\urllib3\\response.py\", line 541, in read\n",
      "    raise IncompleteRead(self._fp_bytes_read, self.length_remaining)\n",
      "  File \"C:\\users\\zhafran\\appdata\\local\\programs\\python\\python39\\lib\\contextlib.py\", line 135, in __exit__\n",
      "    self.gen.throw(type, value, traceback)\n",
      "  File \"C:\\users\\zhafran\\appdata\\local\\programs\\python\\python39\\lib\\site-packages\\pip\\_vendor\\urllib3\\response.py\", line 443, in _error_catcher\n",
      "    raise ReadTimeoutError(self._pool, None, \"Read timed out.\")\n",
      "pip._vendor.urllib3.exceptions.ReadTimeoutError: HTTPSConnectionPool(host='files.pythonhosted.org', port=443): Read timed out.\n",
      "WARNING: You are using pip version 22.0.4; however, version 22.1.1 is available.\n",
      "You should consider upgrading via the 'C:\\users\\zhafran\\appdata\\local\\programs\\python\\python39\\python.exe -m pip install --upgrade pip' command.\n"
     ]
    },
    {
     "name": "stdout",
     "output_type": "stream",
     "text": [
      "Collecting xgboost\n",
      "  Downloading xgboost-1.6.1-py3-none-win_amd64.whl (125.4 MB)\n",
      "     -------                                25.9/125.4 MB 18.7 kB/s eta 1:28:43\n"
     ]
    }
   ],
   "source": [
    "! pip install xgboost"
   ]
  },
  {
   "cell_type": "code",
   "execution_count": 3,
   "metadata": {
    "ExecuteTime": {
     "end_time": "2022-05-25T07:05:52.425118Z",
     "start_time": "2022-05-25T07:05:41.112068Z"
    },
    "colab": {
     "base_uri": "https://localhost:8080/",
     "height": 17
    },
    "executionInfo": {
     "elapsed": 592,
     "status": "ok",
     "timestamp": 1653459196017,
     "user": {
      "displayName": "M. Zhafran Bahij",
      "userId": "09488152119899300929"
     },
     "user_tz": -420
    },
    "id": "Cmx1JrB7HHZ6",
    "outputId": "77c342b7-26f2-4f8e-9b34-e84b90bb256d"
   },
   "outputs": [
    {
     "ename": "ModuleNotFoundError",
     "evalue": "No module named 'xgboost'",
     "output_type": "error",
     "traceback": [
      "\u001b[1;31m---------------------------------------------------------------------------\u001b[0m",
      "\u001b[1;31mModuleNotFoundError\u001b[0m                       Traceback (most recent call last)",
      "Input \u001b[1;32mIn [3]\u001b[0m, in \u001b[0;36m<module>\u001b[1;34m\u001b[0m\n\u001b[0;32m     20\u001b[0m \u001b[38;5;28;01mimport\u001b[39;00m \u001b[38;5;21;01mplotly\u001b[39;00m\u001b[38;5;21;01m.\u001b[39;00m\u001b[38;5;21;01mfigure_factory\u001b[39;00m \u001b[38;5;28;01mas\u001b[39;00m \u001b[38;5;21;01mff\u001b[39;00m\n\u001b[0;32m     22\u001b[0m get_ipython()\u001b[38;5;241m.\u001b[39mrun_line_magic(\u001b[38;5;124m'\u001b[39m\u001b[38;5;124mmatplotlib\u001b[39m\u001b[38;5;124m'\u001b[39m, \u001b[38;5;124m'\u001b[39m\u001b[38;5;124minline\u001b[39m\u001b[38;5;124m'\u001b[39m)\n\u001b[1;32m---> 24\u001b[0m \u001b[38;5;28;01mimport\u001b[39;00m \u001b[38;5;21;01mxgboost\u001b[39;00m\n\u001b[0;32m     25\u001b[0m \u001b[38;5;28;01mimport\u001b[39;00m \u001b[38;5;21;01mlightgbm\u001b[39;00m\n\u001b[0;32m     26\u001b[0m \u001b[38;5;28;01mfrom\u001b[39;00m \u001b[38;5;21;01msklearn\u001b[39;00m\u001b[38;5;21;01m.\u001b[39;00m\u001b[38;5;21;01msvm\u001b[39;00m \u001b[38;5;28;01mimport\u001b[39;00m SVC\n",
      "\u001b[1;31mModuleNotFoundError\u001b[0m: No module named 'xgboost'"
     ]
    },
    {
     "name": "stderr",
     "output_type": "stream",
     "text": [
      "--- Logging error ---\n",
      "Traceback (most recent call last):\n",
      "  File \"C:\\users\\zhafran\\appdata\\local\\programs\\python\\python39\\lib\\site-packages\\ipykernel\\kernelbase.py\", line 461, in dispatch_queue\n",
      "    await self.process_one()\n",
      "  File \"C:\\users\\zhafran\\appdata\\local\\programs\\python\\python39\\lib\\site-packages\\ipykernel\\kernelbase.py\", line 450, in process_one\n",
      "    await dispatch(*args)\n",
      "TypeError: object NoneType can't be used in 'await' expression\n",
      "\n",
      "During handling of the above exception, another exception occurred:\n",
      "\n",
      "Traceback (most recent call last):\n",
      "  File \"C:\\users\\zhafran\\appdata\\local\\programs\\python\\python39\\lib\\logging\\__init__.py\", line 1082, in emit\n",
      "    stream.write(msg + self.terminator)\n",
      "OSError: [Errno 22] Invalid argument\n",
      "Call stack:\n",
      "  File \"C:\\users\\zhafran\\appdata\\local\\programs\\python\\python39\\lib\\runpy.py\", line 197, in _run_module_as_main\n",
      "    return _run_code(code, main_globals, None,\n",
      "  File \"C:\\users\\zhafran\\appdata\\local\\programs\\python\\python39\\lib\\runpy.py\", line 87, in _run_code\n",
      "    exec(code, run_globals)\n",
      "  File \"C:\\users\\zhafran\\appdata\\local\\programs\\python\\python39\\lib\\site-packages\\ipykernel_launcher.py\", line 16, in <module>\n",
      "    app.launch_new_instance()\n",
      "  File \"C:\\users\\zhafran\\appdata\\local\\programs\\python\\python39\\lib\\site-packages\\traitlets\\config\\application.py\", line 846, in launch_instance\n",
      "    app.start()\n",
      "  File \"C:\\users\\zhafran\\appdata\\local\\programs\\python\\python39\\lib\\site-packages\\ipykernel\\kernelapp.py\", line 677, in start\n",
      "    self.io_loop.start()\n",
      "  File \"C:\\users\\zhafran\\appdata\\local\\programs\\python\\python39\\lib\\site-packages\\tornado\\platform\\asyncio.py\", line 199, in start\n",
      "    self.asyncio_loop.run_forever()\n",
      "  File \"C:\\users\\zhafran\\appdata\\local\\programs\\python\\python39\\lib\\asyncio\\base_events.py\", line 596, in run_forever\n",
      "    self._run_once()\n",
      "  File \"C:\\users\\zhafran\\appdata\\local\\programs\\python\\python39\\lib\\asyncio\\base_events.py\", line 1890, in _run_once\n",
      "    handle._run()\n",
      "  File \"C:\\users\\zhafran\\appdata\\local\\programs\\python\\python39\\lib\\asyncio\\events.py\", line 80, in _run\n",
      "    self._context.run(self._callback, *self._args)\n",
      "  File \"C:\\users\\zhafran\\appdata\\local\\programs\\python\\python39\\lib\\site-packages\\ipykernel\\kernelbase.py\", line 463, in dispatch_queue\n",
      "    self.log.exception(\"Error in message handler\")\n",
      "Message: 'Error in message handler'\n",
      "Arguments: ()\n"
     ]
    }
   ],
   "source": [
    "import pandas as pd\n",
    "import numpy as np\n",
    "import matplotlib.pyplot as plt\n",
    "import warnings\n",
    "import seaborn as sns\n",
    "import pickle\n",
    "# from colorama import Fore, Back, Style\n",
    "from sklearn.model_selection import train_test_split\n",
    "from sklearn.metrics import confusion_matrix, accuracy_score, precision_score, recall_score, mean_squared_error, r2_score\n",
    "from mlxtend.plotting import plot_confusion_matrix\n",
    "from plotly.offline import plot, iplot, init_notebook_mode\n",
    "import plotly.graph_objs as go\n",
    "from plotly.subplots import make_subplots\n",
    "import plotly.express as px\n",
    "from statsmodels.formula.api import ols\n",
    "import plotly.graph_objs as gobj\n",
    "\n",
    "# init_notebook_mode(connected=True)\n",
    "warnings.filterwarnings(\"ignore\")\n",
    "import plotly.figure_factory as ff\n",
    "\n",
    "%matplotlib inline\n",
    "\n",
    "# import xgboost\n",
    "# import lightgbm\n",
    "from sklearn.svm import SVC\n",
    "from sklearn.ensemble import GradientBoostingClassifier\n",
    "from sklearn.ensemble import RandomForestClassifier\n",
    "from sklearn.tree import DecisionTreeClassifier\n",
    "from sklearn.neighbors import KNeighborsClassifier\n",
    "from sklearn.linear_model import LogisticRegression\n",
    "# from catboost import CatBoostClassifier\n"
   ]
  },
  {
   "cell_type": "markdown",
   "metadata": {
    "id": "RTEfcZDEQ1Nn"
   },
   "source": [
    "# C. Data Loading"
   ]
  },
  {
   "cell_type": "markdown",
   "metadata": {
    "id": "o4hvDb1OQ8QN"
   },
   "source": [
    "**Mengimport dataset yang akan digunakan**"
   ]
  },
  {
   "cell_type": "code",
   "execution_count": null,
   "metadata": {
    "ExecuteTime": {
     "end_time": "2022-05-25T07:00:56.532294Z",
     "start_time": "2022-05-25T07:00:56.531785Z"
    },
    "executionInfo": {
     "elapsed": 24,
     "status": "ok",
     "timestamp": 1653459196552,
     "user": {
      "displayName": "M. Zhafran Bahij",
      "userId": "09488152119899300929"
     },
     "user_tz": -420
    },
    "id": "F7pWwK1EHH45"
   },
   "outputs": [],
   "source": [
    "# import os\n",
    "# os.environ['KAGGLE_USERNAME'] = 'gethuk'\n",
    "# os.environ['KAGGLE_KEY'] = '555d1f5b08a6d0397d4384718e7c6467'"
   ]
  },
  {
   "cell_type": "code",
   "execution_count": null,
   "metadata": {
    "ExecuteTime": {
     "end_time": "2022-05-25T07:00:56.541413Z",
     "start_time": "2022-05-25T07:00:56.541413Z"
    },
    "colab": {
     "base_uri": "https://localhost:8080/"
    },
    "executionInfo": {
     "elapsed": 472,
     "status": "ok",
     "timestamp": 1653459197006,
     "user": {
      "displayName": "M. Zhafran Bahij",
      "userId": "09488152119899300929"
     },
     "user_tz": -420
    },
    "id": "CNoLdGj5RwWo",
    "outputId": "d29b1e4a-bf73-4b78-bc0b-4cc319561644"
   },
   "outputs": [],
   "source": [
    "# ! kaggle datasets download -d andrewmvd/heart-failure-clinical-data"
   ]
  },
  {
   "cell_type": "code",
   "execution_count": null,
   "metadata": {
    "ExecuteTime": {
     "end_time": "2022-05-25T07:00:56.545974Z",
     "start_time": "2022-05-25T07:00:56.545467Z"
    },
    "colab": {
     "base_uri": "https://localhost:8080/"
    },
    "executionInfo": {
     "elapsed": 64,
     "status": "ok",
     "timestamp": 1653459197008,
     "user": {
      "displayName": "M. Zhafran Bahij",
      "userId": "09488152119899300929"
     },
     "user_tz": -420
    },
    "id": "HPrRz2YKR7FS",
    "outputId": "35ae21c0-4202-4188-f8af-b410c396c0a8"
   },
   "outputs": [],
   "source": [
    "# # Ekstrak File berbentuk ZIP\n",
    "# from zipfile import ZipFile\n",
    "\n",
    "# file_name = \"/content/heart-failure-clinical-data.zip\"\n",
    "\n",
    "# with ZipFile(file_name, 'r') as zip : \n",
    "#   zip.extractall()\n",
    "#   print('Ekstrak File Berhasil')"
   ]
  },
  {
   "cell_type": "code",
   "execution_count": null,
   "metadata": {
    "ExecuteTime": {
     "end_time": "2022-05-25T07:00:56.550534Z",
     "start_time": "2022-05-25T07:00:56.550026Z"
    },
    "colab": {
     "base_uri": "https://localhost:8080/"
    },
    "executionInfo": {
     "elapsed": 3446,
     "status": "ok",
     "timestamp": 1653459200405,
     "user": {
      "displayName": "M. Zhafran Bahij",
      "userId": "09488152119899300929"
     },
     "user_tz": -420
    },
    "id": "_-TM2v7gY9MK",
    "outputId": "669afb7d-19ff-40ef-9b9b-271b1c0371ae"
   },
   "outputs": [],
   "source": [
    "# from google.colab import drive\n",
    "# drive.mount('/content/drive')"
   ]
  },
  {
   "cell_type": "code",
   "execution_count": null,
   "metadata": {
    "ExecuteTime": {
     "end_time": "2022-05-25T07:00:56.558135Z",
     "start_time": "2022-05-25T07:00:56.558135Z"
    },
    "colab": {
     "base_uri": "https://localhost:8080/",
     "height": 270
    },
    "executionInfo": {
     "elapsed": 115,
     "status": "ok",
     "timestamp": 1653459200413,
     "user": {
      "displayName": "M. Zhafran Bahij",
      "userId": "09488152119899300929"
     },
     "user_tz": -420
    },
    "id": "9XOkzXVmSW4f",
    "outputId": "5918813f-1038-4bbb-a539-af724f629ea6"
   },
   "outputs": [],
   "source": [
    "df = pd.read_csv('heart_failure_clinical_records_dataset.csv')\n",
    "df.head()"
   ]
  },
  {
   "cell_type": "markdown",
   "metadata": {
    "id": "OgbaPU963Ed7"
   },
   "source": [
    "# D. Data Cleaning"
   ]
  },
  {
   "cell_type": "code",
   "execution_count": null,
   "metadata": {
    "ExecuteTime": {
     "end_time": "2022-05-25T07:00:56.562692Z",
     "start_time": "2022-05-25T07:00:56.562692Z"
    },
    "colab": {
     "base_uri": "https://localhost:8080/"
    },
    "executionInfo": {
     "elapsed": 141,
     "status": "ok",
     "timestamp": 1653459200448,
     "user": {
      "displayName": "M. Zhafran Bahij",
      "userId": "09488152119899300929"
     },
     "user_tz": -420
    },
    "id": "Z8PjtgvVSvf2",
    "outputId": "bd6bb2e4-bdb5-4361-e128-2f8ef6ce133c"
   },
   "outputs": [],
   "source": [
    "df.shape"
   ]
  },
  {
   "cell_type": "code",
   "execution_count": null,
   "metadata": {
    "ExecuteTime": {
     "end_time": "2022-05-25T07:00:56.568772Z",
     "start_time": "2022-05-25T07:00:56.568772Z"
    },
    "colab": {
     "base_uri": "https://localhost:8080/"
    },
    "executionInfo": {
     "elapsed": 132,
     "status": "ok",
     "timestamp": 1653459200451,
     "user": {
      "displayName": "M. Zhafran Bahij",
      "userId": "09488152119899300929"
     },
     "user_tz": -420
    },
    "id": "z0trreptU-Jh",
    "outputId": "05b781fd-2239-4217-ca73-9d73ec243c88"
   },
   "outputs": [],
   "source": [
    "df.info()"
   ]
  },
  {
   "cell_type": "code",
   "execution_count": null,
   "metadata": {
    "ExecuteTime": {
     "end_time": "2022-05-25T07:00:56.576373Z",
     "start_time": "2022-05-25T07:00:56.576373Z"
    },
    "colab": {
     "base_uri": "https://localhost:8080/",
     "height": 364
    },
    "executionInfo": {
     "elapsed": 129,
     "status": "ok",
     "timestamp": 1653459200456,
     "user": {
      "displayName": "M. Zhafran Bahij",
      "userId": "09488152119899300929"
     },
     "user_tz": -420
    },
    "id": "oDW1O4C4VCp-",
    "outputId": "d6102e2b-2e11-463e-a591-9daa45d1a88c"
   },
   "outputs": [],
   "source": [
    "df.describe()"
   ]
  },
  {
   "cell_type": "code",
   "execution_count": null,
   "metadata": {
    "ExecuteTime": {
     "end_time": "2022-05-25T07:00:56.581439Z",
     "start_time": "2022-05-25T07:00:56.581439Z"
    },
    "colab": {
     "base_uri": "https://localhost:8080/"
    },
    "executionInfo": {
     "elapsed": 126,
     "status": "ok",
     "timestamp": 1653459200457,
     "user": {
      "displayName": "M. Zhafran Bahij",
      "userId": "09488152119899300929"
     },
     "user_tz": -420
    },
    "id": "zn0uu8wMrAna",
    "outputId": "3b44f01b-b114-4c4e-e1ef-a14b049f66e8"
   },
   "outputs": [],
   "source": [
    "df.isnull().sum()"
   ]
  },
  {
   "cell_type": "markdown",
   "metadata": {
    "id": "cmOGkIOA2vHI"
   },
   "source": [
    "# E. Eksplorasi Data"
   ]
  },
  {
   "cell_type": "code",
   "execution_count": null,
   "metadata": {
    "ExecuteTime": {
     "end_time": "2022-05-25T07:00:56.599171Z",
     "start_time": "2022-05-25T07:00:56.599171Z"
    },
    "colab": {
     "base_uri": "https://localhost:8080/",
     "height": 392
    },
    "executionInfo": {
     "elapsed": 2623,
     "status": "ok",
     "timestamp": 1653459202962,
     "user": {
      "displayName": "M. Zhafran Bahij",
      "userId": "09488152119899300929"
     },
     "user_tz": -420
    },
    "id": "HMPIb3JPzh3D",
    "outputId": "113f7d6b-e41d-4ab5-8619-ffe6653487e5"
   },
   "outputs": [],
   "source": [
    "# Feature Selection\n",
    "\n",
    "plt.rcParams['figure.figsize']=15,6 \n",
    "sns.set_style(\"darkgrid\")\n",
    "\n",
    "x = df.iloc[:, :-1]\n",
    "y = df.iloc[:,-1]\n",
    "\n",
    "from sklearn.ensemble import ExtraTreesClassifier\n",
    "import matplotlib.pyplot as plt\n",
    "model = ExtraTreesClassifier()\n",
    "model.fit(x,y)\n",
    "print(model.feature_importances_) \n",
    "feat_importances = pd.Series(model.feature_importances_, index=x.columns)\n",
    "feat_importances.nlargest(12).plot(kind='barh')\n",
    "plt.show()"
   ]
  },
  {
   "cell_type": "code",
   "execution_count": null,
   "metadata": {
    "ExecuteTime": {
     "end_time": "2022-05-25T07:00:56.607280Z",
     "start_time": "2022-05-25T07:00:56.607280Z"
    },
    "executionInfo": {
     "elapsed": 148,
     "status": "ok",
     "timestamp": 1653459202981,
     "user": {
      "displayName": "M. Zhafran Bahij",
      "userId": "09488152119899300929"
     },
     "user_tz": -420
    },
    "id": "uNaRtCptqigq"
   },
   "outputs": [],
   "source": [
    "# Kami hanya akan memilih 3 fitur: time, ejection_fraction, serum_creatine\n"
   ]
  },
  {
   "cell_type": "code",
   "execution_count": null,
   "metadata": {
    "ExecuteTime": {
     "end_time": "2022-05-25T07:00:56.611841Z",
     "start_time": "2022-05-25T07:00:56.611841Z"
    },
    "colab": {
     "base_uri": "https://localhost:8080/",
     "height": 389
    },
    "executionInfo": {
     "elapsed": 137,
     "status": "ok",
     "timestamp": 1653459202982,
     "user": {
      "displayName": "M. Zhafran Bahij",
      "userId": "09488152119899300929"
     },
     "user_tz": -420
    },
    "id": "qQ28mFKhsBZT",
    "outputId": "1a26541b-942f-444a-c0bb-f7196a734cbe"
   },
   "outputs": [],
   "source": [
    "# Boxplot for ejection_fraction\n",
    "\n",
    "sns.boxplot(x = df.ejection_fraction, color = 'teal')\n",
    "plt.show()"
   ]
  },
  {
   "cell_type": "code",
   "execution_count": null,
   "metadata": {
    "ExecuteTime": {
     "end_time": "2022-05-25T07:00:56.615894Z",
     "start_time": "2022-05-25T07:00:56.615894Z"
    },
    "colab": {
     "base_uri": "https://localhost:8080/",
     "height": 176
    },
    "executionInfo": {
     "elapsed": 176,
     "status": "ok",
     "timestamp": 1653459203026,
     "user": {
      "displayName": "M. Zhafran Bahij",
      "userId": "09488152119899300929"
     },
     "user_tz": -420
    },
    "id": "izbMrTxdsUgA",
    "outputId": "e0cf983f-d5a5-44e8-a63c-d63560eb61b5"
   },
   "outputs": [],
   "source": [
    "df[df['ejection_fraction']>=70]"
   ]
  },
  {
   "cell_type": "code",
   "execution_count": null,
   "metadata": {
    "ExecuteTime": {
     "end_time": "2022-05-25T07:00:56.623494Z",
     "start_time": "2022-05-25T07:00:56.623494Z"
    },
    "colab": {
     "base_uri": "https://localhost:8080/",
     "height": 388
    },
    "executionInfo": {
     "elapsed": 1160,
     "status": "ok",
     "timestamp": 1653459204014,
     "user": {
      "displayName": "M. Zhafran Bahij",
      "userId": "09488152119899300929"
     },
     "user_tz": -420
    },
    "id": "Nv2UKMu5tE3E",
    "outputId": "8bc25e69-54c6-4988-f458-a9232d6daf3b"
   },
   "outputs": [],
   "source": [
    "df = df[df['ejection_fraction']<70]\n",
    "sns.boxplot(x=df.time, color = 'teal')\n",
    "plt.show()"
   ]
  },
  {
   "cell_type": "code",
   "execution_count": null,
   "metadata": {
    "ExecuteTime": {
     "end_time": "2022-05-25T07:00:56.627547Z",
     "start_time": "2022-05-25T07:00:56.627547Z"
    },
    "colab": {
     "base_uri": "https://localhost:8080/",
     "height": 389
    },
    "executionInfo": {
     "elapsed": 225,
     "status": "ok",
     "timestamp": 1653459204019,
     "user": {
      "displayName": "M. Zhafran Bahij",
      "userId": "09488152119899300929"
     },
     "user_tz": -420
    },
    "id": "XFNF3rgPtU0z",
    "outputId": "7702568a-dfcb-4136-875a-17850fbf691f"
   },
   "outputs": [],
   "source": [
    "# Boxplot for ejection_fraction\n",
    "sns.boxplot(x=df.serum_creatinine, color = 'teal')\n",
    "plt.show()"
   ]
  },
  {
   "cell_type": "code",
   "execution_count": null,
   "metadata": {
    "ExecuteTime": {
     "end_time": "2022-05-25T07:00:56.632614Z",
     "start_time": "2022-05-25T07:00:56.632614Z"
    },
    "colab": {
     "base_uri": "https://localhost:8080/",
     "height": 542
    },
    "executionInfo": {
     "elapsed": 261,
     "status": "ok",
     "timestamp": 1653459204059,
     "user": {
      "displayName": "M. Zhafran Bahij",
      "userId": "09488152119899300929"
     },
     "user_tz": -420
    },
    "id": "BeCzhfJgtrRl",
    "outputId": "999238e4-17b3-4aa2-b973-923a6c2b5ae6"
   },
   "outputs": [],
   "source": [
    "import plotly.graph_objects as go\n",
    "\n",
    "fig = go.Figure()\n",
    "fig.add_trace(go.Histogram(\n",
    "    x = df['age'],\n",
    "    xbins=dict( # bins used for histogram\n",
    "        start=40,\n",
    "        end=95,\n",
    "        size=2\n",
    "    ),\n",
    "    marker_color='#e8ab60',\n",
    "    opacity=1\n",
    "))\n",
    "\n",
    "fig.update_layout(\n",
    "    title_text='AGE DISTRIBUTION',\n",
    "    xaxis_title_text='AGE',\n",
    "    yaxis_title_text='COUNT', \n",
    "    bargap=0.05, # gap between bars of adjacent location coordinates\n",
    "    xaxis =  {'showgrid': False },\n",
    "    yaxis = {'showgrid': False },\n",
    "    template = 'plotly_dark'\n",
    ")\n",
    "\n",
    "fig.show()"
   ]
  },
  {
   "cell_type": "code",
   "execution_count": null,
   "metadata": {
    "ExecuteTime": {
     "end_time": "2022-05-25T07:00:56.641228Z",
     "start_time": "2022-05-25T07:00:56.640723Z"
    },
    "colab": {
     "base_uri": "https://localhost:8080/",
     "height": 537
    },
    "executionInfo": {
     "elapsed": 259,
     "status": "ok",
     "timestamp": 1653459204061,
     "user": {
      "displayName": "M. Zhafran Bahij",
      "userId": "09488152119899300929"
     },
     "user_tz": -420
    },
    "id": "x-tqw9qQujpF",
    "outputId": "6d25f699-4672-4663-ee48-540f5002f8c6"
   },
   "outputs": [],
   "source": [
    "import plotly.graph_objects as go\n",
    "from plotly.subplots import make_subplots\n",
    "\n",
    "d1 = df[(df[\"DEATH_EVENT\"]==0) & (df[\"sex\"]==1)]\n",
    "d2 = df[(df[\"DEATH_EVENT\"]==1) & (df[\"sex\"]==1)]\n",
    "d3 = df[(df[\"DEATH_EVENT\"]==0) & (df[\"sex\"]==0)]\n",
    "d4 = df[(df[\"DEATH_EVENT\"]==1) & (df[\"sex\"]==0)]\n",
    "\n",
    "label1 = [\"Male\",\"Female\"]\n",
    "label2 = ['Male - Survived','Male - Died', \"Female -  Survived\", \"Female - Died\"]\n",
    "values1 = [(len(d1)+len(d2)), (len(d3)+len(d4))]\n",
    "values2 = [len(d1),len(d2),len(d3),len(d4)]\n",
    "\n",
    "# Create subplots: use 'domain' type for Pie subplot\n",
    "fig = make_subplots(rows=1, cols=2, specs=[[{'type':'domain'}, {'type':'domain'}]])\n",
    "fig.add_trace(go.Pie(labels=label1, values=values1, name=\"GENDER\"),\n",
    "              1, 1)\n",
    "fig.add_trace(go.Pie(labels=label2, values=values2, name=\"GENDER VS DEATH_EVENT\"),\n",
    "              1, 2)\n",
    "\n",
    "# Use `hole` to create a donut-like pie chart\n",
    "fig.update_traces(hole=.4, hoverinfo=\"label+percent\")\n",
    "\n",
    "fig.update_layout(\n",
    "    title_text=\"GENDER DISTRIBUTION IN THE DATASET  \\\n",
    "                   GENDER VS DEATH_EVENT\",\n",
    "    # Add annotations in the center of the donut pies.\n",
    "    annotations=[dict(text='GENDER', x=0.19, y=0.5, font_size=10, showarrow=False),\n",
    "                 dict(text='GENDER VS DEATH_EVENT', x=0.84, y=0.5, font_size=9, showarrow=False)],\n",
    "    autosize=False,width=1200, height=500, paper_bgcolor=\"white\")\n",
    "\n",
    "fig.show()"
   ]
  },
  {
   "cell_type": "code",
   "execution_count": null,
   "metadata": {
    "ExecuteTime": {
     "end_time": "2022-05-25T07:00:56.645280Z",
     "start_time": "2022-05-25T07:00:56.645280Z"
    },
    "colab": {
     "base_uri": "https://localhost:8080/",
     "height": 542
    },
    "executionInfo": {
     "elapsed": 254,
     "status": "ok",
     "timestamp": 1653459204063,
     "user": {
      "displayName": "M. Zhafran Bahij",
      "userId": "09488152119899300929"
     },
     "user_tz": -420
    },
    "id": "Jkfz7jsUuFv8",
    "outputId": "4256b1bd-d56d-49d5-869d-b8b8322bd817"
   },
   "outputs": [],
   "source": [
    "# Now lets categorize the above histogram by DEATH_EVENT\n",
    "\n",
    "import plotly.express as px\n",
    "fig = px.histogram(df, x=\"age\", color=\"DEATH_EVENT\", marginal=\"violin\", hover_data=df.columns, \n",
    "                   title =\"Distribution of AGE Vs DEATH_EVENT\", \n",
    "                   labels={\"age\": \"AGE\"},\n",
    "                   template=\"plotly_dark\",\n",
    "                   color_discrete_map={\"0\": \"RebeccaPurple\", \"1\": \"MediumPurple\"}\n",
    "                  )\n",
    "fig.show()"
   ]
  },
  {
   "cell_type": "markdown",
   "metadata": {
    "id": "-2Bi8Xmz2Xt6"
   },
   "source": [
    "# F. Data Preprocessing"
   ]
  },
  {
   "cell_type": "markdown",
   "metadata": {
    "id": "8c2_AWK54wcz"
   },
   "source": [
    "Split data menjadi X_train, X_test, Y_train, Y_test"
   ]
  },
  {
   "cell_type": "code",
   "execution_count": null,
   "metadata": {
    "ExecuteTime": {
     "end_time": "2022-05-25T07:00:56.649841Z",
     "start_time": "2022-05-25T07:00:56.649841Z"
    },
    "executionInfo": {
     "elapsed": 251,
     "status": "ok",
     "timestamp": 1653459204065,
     "user": {
      "displayName": "M. Zhafran Bahij",
      "userId": "09488152119899300929"
     },
     "user_tz": -420
    },
    "id": "0rGhIMfa47Ah"
   },
   "outputs": [],
   "source": [
    "X_train, X_test, y_train, y_test = train_test_split(df.drop(columns=\"DEATH_EVENT\"), df[\"DEATH_EVENT\"], train_size=0.8, random_state=69)"
   ]
  },
  {
   "cell_type": "markdown",
   "metadata": {
    "id": "DFebe7Ed9RLV"
   },
   "source": [
    "Tidak ada proses encode dikarenakan data yang di sini sudah berbentuk numerik."
   ]
  },
  {
   "cell_type": "markdown",
   "metadata": {
    "id": "0hjgn2NB9vtI"
   },
   "source": [
    "# G. Pendefinisian Model"
   ]
  },
  {
   "cell_type": "markdown",
   "metadata": {
    "id": "piReoKD--UCT"
   },
   "source": [
    "Dalam projek kali ini, model yang digunakan adalah *random forest*. Secara teknis, random forest adalah ensemble method jika mengacu kepada pendekatan divide and conquer dari decision trees yang dihasilkan pada dataset dan dipisahkan secara terpisah. (Sumber : Kode.id)\n",
    "\n"
   ]
  },
  {
   "cell_type": "markdown",
   "metadata": {
    "id": "GlTjyGNHAAgo"
   },
   "source": [
    "Pada projek kali ini, kita akan menggunakan\n",
    "\n",
    "*   n_estimators = 100\n",
    "*   max_depth = 50\n",
    "*   criterion = gini or entropy\n",
    "\n",
    "Alasan criterion-nya banyak karena nantinya akan diteliti satu persatu yang mana yang terbaik\n",
    "\n"
   ]
  },
  {
   "cell_type": "markdown",
   "metadata": {
    "id": "aMJr7EkbAZcR"
   },
   "source": [
    "# H Pelatihan Model"
   ]
  },
  {
   "cell_type": "markdown",
   "metadata": {
    "id": "XoKPy85VDhts"
   },
   "source": [
    "Pelatihan model akan dilakukan sesuai criterion masing-masing dengan nama model : \n",
    "\n",
    "*   rf_entropy\n",
    "*   rf_gini\n",
    "\n"
   ]
  },
  {
   "cell_type": "code",
   "execution_count": null,
   "metadata": {
    "ExecuteTime": {
     "end_time": "2022-05-25T07:00:56.656934Z",
     "start_time": "2022-05-25T07:00:56.656934Z"
    },
    "executionInfo": {
     "elapsed": 253,
     "status": "ok",
     "timestamp": 1653459204069,
     "user": {
      "displayName": "M. Zhafran Bahij",
      "userId": "09488152119899300929"
     },
     "user_tz": -420
    },
    "id": "NbkMJnFD93lg"
   },
   "outputs": [],
   "source": [
    "# Buat modelnya\n",
    "rf_gini = RandomForestClassifier(max_depth=50, criterion='gini').fit(X_train, y_train)"
   ]
  },
  {
   "cell_type": "code",
   "execution_count": null,
   "metadata": {
    "ExecuteTime": {
     "end_time": "2022-05-25T07:00:56.664533Z",
     "start_time": "2022-05-25T07:00:56.664533Z"
    },
    "executionInfo": {
     "elapsed": 261,
     "status": "ok",
     "timestamp": 1653459204078,
     "user": {
      "displayName": "M. Zhafran Bahij",
      "userId": "09488152119899300929"
     },
     "user_tz": -420
    },
    "id": "dOnBLPVJKcbY"
   },
   "outputs": [],
   "source": [
    "# Buat model\n",
    "rf_entropy = RandomForestClassifier(max_depth=50, criterion='entropy').fit(X_train, y_train)"
   ]
  },
  {
   "cell_type": "markdown",
   "metadata": {
    "id": "_LwB95g_LAOU"
   },
   "source": [
    "# I Evaluasi Model"
   ]
  },
  {
   "cell_type": "markdown",
   "metadata": {
    "id": "wqczNXkmLGLn"
   },
   "source": [
    "Sebelum buat evaluasinya, kita akan buat fungsi intinya agar bisa menerapkan sesuatu yang namanya DRY (Don't Repeat Yourself).\n",
    "\n",
    "Di sini, kita akan mengevaluasi berdasarkan\n",
    "\n",
    "*   Accuracy Score\n",
    "*   Precision Score\n",
    "*   Recall Score\n",
    "\n",
    "Accuracy score untuk mengetes akurasi dari model. \n",
    "\n",
    "Precision Score adalah skor berapa persen model ini keliru menebak. Misalnya, yang harusnya gambar bebek, model tersebut menebaknya menjadi gambar ayam.\n",
    "\n",
    "Recall Score adalah skor berapa persen model tersebut menebak dengan tebakan tepat. Penjelasan mudahnya seperti, ada 10 gambar ayam, tetapi model tersebut menganggap hanya ada 8 gambar ayam.\n"
   ]
  },
  {
   "cell_type": "code",
   "execution_count": null,
   "metadata": {
    "ExecuteTime": {
     "end_time": "2022-05-25T07:00:56.668586Z",
     "start_time": "2022-05-25T07:00:56.668080Z"
    },
    "executionInfo": {
     "elapsed": 261,
     "status": "ok",
     "timestamp": 1653459204080,
     "user": {
      "displayName": "M. Zhafran Bahij",
      "userId": "09488152119899300929"
     },
     "user_tz": -420
    },
    "id": "jDEGeW5zLT0L"
   },
   "outputs": [],
   "source": [
    "def modeling_function(model, X_test, y_test):\n",
    "    # Buat hasil prediksi\n",
    "    predicted = model.predict(X_test)\n",
    "    print('Data Prediksi : ', predicted)\n",
    "\n",
    "    # Pengecekan akurasi\n",
    "    print('')\n",
    "    data = [\n",
    "        accuracy_score(y_test, predicted),\n",
    "        precision_score(y_test, predicted),\n",
    "        recall_score(y_test, predicted),\n",
    "        r2_score(y_test, predicted),\n",
    "        mean_squared_error(y_test, predicted)\n",
    "    ]\n",
    "\n",
    "    labels = [\n",
    "        'Accuration', 'Precision', 'Recall', 'R2 Score', 'Mean Squared Error'\n",
    "    ]\n",
    "\n",
    "    for x in range(len(labels)):\n",
    "        print(labels[x], \" : \", data[x])\n",
    "\n",
    "    print('Confusion Matrix : \\n', confusion_matrix(y_test, predicted))\n",
    "    \n",
    "    # Buat visualisasi\n",
    "    import matplotlib.pyplot as plt\n",
    "\n",
    "    names = labels\n",
    "    values = data\n",
    "\n",
    "    plt.figure(figsize=(9, 3))\n",
    "    plt.title('Check Some Information About Precision, Accuration, Recall')\n",
    "    plt.xlabel('Calculation')\n",
    "    plt.ylabel('Score')\n",
    "    plt.bar(names, values)\n",
    "    plt.show()\n",
    "    \n",
    "    return data\n"
   ]
  },
  {
   "cell_type": "code",
   "execution_count": null,
   "metadata": {
    "ExecuteTime": {
     "end_time": "2022-05-25T07:00:56.675679Z",
     "start_time": "2022-05-25T07:00:56.675679Z"
    },
    "colab": {
     "base_uri": "https://localhost:8080/",
     "height": 432
    },
    "executionInfo": {
     "elapsed": 263,
     "status": "ok",
     "timestamp": 1653459204086,
     "user": {
      "displayName": "M. Zhafran Bahij",
      "userId": "09488152119899300929"
     },
     "user_tz": -420
    },
    "id": "5xsLijzMMGPH",
    "outputId": "07c63be6-15b8-403e-f68b-eace01c8d229"
   },
   "outputs": [],
   "source": [
    "data = modeling_function(rf_gini, X_test, y_test)"
   ]
  },
  {
   "cell_type": "code",
   "execution_count": null,
   "metadata": {
    "ExecuteTime": {
     "end_time": "2022-05-25T07:00:56.680241Z",
     "start_time": "2022-05-25T07:00:56.680241Z"
    },
    "colab": {
     "base_uri": "https://localhost:8080/",
     "height": 432
    },
    "executionInfo": {
     "elapsed": 252,
     "status": "ok",
     "timestamp": 1653459204091,
     "user": {
      "displayName": "M. Zhafran Bahij",
      "userId": "09488152119899300929"
     },
     "user_tz": -420
    },
    "id": "LJ12PHSOMPAH",
    "outputId": "02c6cfe1-9876-4766-b072-42c9480e39b9"
   },
   "outputs": [],
   "source": [
    "data = modeling_function(rf_entropy, X_test, y_test)"
   ]
  },
  {
   "cell_type": "markdown",
   "metadata": {
    "id": "d3kBhy8wZIqH"
   },
   "source": [
    "Pada percobaan di atas, kita telah mengetahui bahwa model random forest entropy lebih baik dibandingkan random forest gini, sehingga model yang akan digunakan saat deploying adalah random forest entropy\n"
   ]
  },
  {
   "cell_type": "code",
   "execution_count": null,
   "metadata": {
    "ExecuteTime": {
     "end_time": "2022-05-25T07:00:56.683787Z",
     "start_time": "2022-05-25T07:00:56.683787Z"
    },
    "executionInfo": {
     "elapsed": 293,
     "status": "ok",
     "timestamp": 1653461481499,
     "user": {
      "displayName": "M. Zhafran Bahij",
      "userId": "09488152119899300929"
     },
     "user_tz": -420
    },
    "id": "-UYuhZuoZhVY"
   },
   "outputs": [
    {
     "name": "stderr",
     "output_type": "stream",
     "text": [
      "--- Logging error ---\n",
      "Traceback (most recent call last):\n",
      "  File \"C:\\users\\zhafran\\appdata\\local\\programs\\python\\python39\\lib\\site-packages\\ipykernel\\kernelbase.py\", line 461, in dispatch_queue\n",
      "    await self.process_one()\n",
      "  File \"C:\\users\\zhafran\\appdata\\local\\programs\\python\\python39\\lib\\site-packages\\ipykernel\\kernelbase.py\", line 450, in process_one\n",
      "    await dispatch(*args)\n",
      "TypeError: object NoneType can't be used in 'await' expression\n",
      "\n",
      "During handling of the above exception, another exception occurred:\n",
      "\n",
      "Traceback (most recent call last):\n",
      "  File \"C:\\users\\zhafran\\appdata\\local\\programs\\python\\python39\\lib\\logging\\__init__.py\", line 1082, in emit\n",
      "    stream.write(msg + self.terminator)\n",
      "OSError: [Errno 22] Invalid argument\n",
      "Call stack:\n",
      "  File \"C:\\users\\zhafran\\appdata\\local\\programs\\python\\python39\\lib\\runpy.py\", line 197, in _run_module_as_main\n",
      "    return _run_code(code, main_globals, None,\n",
      "  File \"C:\\users\\zhafran\\appdata\\local\\programs\\python\\python39\\lib\\runpy.py\", line 87, in _run_code\n",
      "    exec(code, run_globals)\n",
      "  File \"C:\\users\\zhafran\\appdata\\local\\programs\\python\\python39\\lib\\site-packages\\ipykernel_launcher.py\", line 16, in <module>\n",
      "    app.launch_new_instance()\n",
      "  File \"C:\\users\\zhafran\\appdata\\local\\programs\\python\\python39\\lib\\site-packages\\traitlets\\config\\application.py\", line 846, in launch_instance\n",
      "    app.start()\n",
      "  File \"C:\\users\\zhafran\\appdata\\local\\programs\\python\\python39\\lib\\site-packages\\ipykernel\\kernelapp.py\", line 677, in start\n",
      "    self.io_loop.start()\n",
      "  File \"C:\\users\\zhafran\\appdata\\local\\programs\\python\\python39\\lib\\site-packages\\tornado\\platform\\asyncio.py\", line 199, in start\n",
      "    self.asyncio_loop.run_forever()\n",
      "  File \"C:\\users\\zhafran\\appdata\\local\\programs\\python\\python39\\lib\\asyncio\\base_events.py\", line 596, in run_forever\n",
      "    self._run_once()\n",
      "  File \"C:\\users\\zhafran\\appdata\\local\\programs\\python\\python39\\lib\\asyncio\\base_events.py\", line 1890, in _run_once\n",
      "    handle._run()\n",
      "  File \"C:\\users\\zhafran\\appdata\\local\\programs\\python\\python39\\lib\\asyncio\\events.py\", line 80, in _run\n",
      "    self._context.run(self._callback, *self._args)\n",
      "  File \"C:\\users\\zhafran\\appdata\\local\\programs\\python\\python39\\lib\\site-packages\\ipykernel\\kernelbase.py\", line 463, in dispatch_queue\n",
      "    self.log.exception(\"Error in message handler\")\n",
      "Message: 'Error in message handler'\n",
      "Arguments: ()\n"
     ]
    }
   ],
   "source": [
    "pickle_dump = (rf_gini, open('random_forest2.pkl', 'wb'))"
   ]
  },
  {
   "cell_type": "markdown",
   "metadata": {
    "id": "SEgFNZmodOmp"
   },
   "source": [
    "# I. Model Inference"
   ]
  },
  {
   "cell_type": "markdown",
   "metadata": {
    "id": "s5HTWtXsdUIl"
   },
   "source": [
    "Model yang sudah dilatih, tentunya akan dicoba dengan data berasal dari user web pada link berikut."
   ]
  },
  {
   "cell_type": "markdown",
   "metadata": {
    "id": "N4APuIoNcJ5b"
   },
   "source": [
    "# K. Kesimpulan"
   ]
  },
  {
   "cell_type": "markdown",
   "metadata": {
    "id": "BMe4oAUkcRzV"
   },
   "source": [
    "Kesimpulannya adalah ...\n",
    "\n",
    "*   Dataset sudah bersih dan hanya berisi angka sehinggat tidak perlu di encode dan dibersihkan.\n",
    "*   Pada kasus ini, random forest dengan criterion entropy lebih baik dibandingkan criterion gini.\n",
    "\n"
   ]
  }
 ],
 "metadata": {
  "accelerator": "GPU",
  "colab": {
   "collapsed_sections": [],
   "name": "PYTN_KampusMerdeka_FP3.ipynb",
   "provenance": []
  },
  "kernelspec": {
   "display_name": "Python 3 (ipykernel)",
   "language": "python",
   "name": "python3"
  },
  "language_info": {
   "codemirror_mode": {
    "name": "ipython",
    "version": 3
   },
   "file_extension": ".py",
   "mimetype": "text/x-python",
   "name": "python",
   "nbconvert_exporter": "python",
   "pygments_lexer": "ipython3",
   "version": "3.9.2"
  },
  "latex_envs": {
   "LaTeX_envs_menu_present": true,
   "autoclose": false,
   "autocomplete": true,
   "bibliofile": "biblio.bib",
   "cite_by": "apalike",
   "current_citInitial": 1,
   "eqLabelWithNumbers": true,
   "eqNumInitial": 1,
   "hotkeys": {
    "equation": "Ctrl-E",
    "itemize": "Ctrl-I"
   },
   "labels_anchors": false,
   "latex_user_defs": false,
   "report_style_numbering": false,
   "user_envs_cfg": false
  },
  "toc": {
   "base_numbering": 1,
   "nav_menu": {},
   "number_sections": true,
   "sideBar": true,
   "skip_h1_title": false,
   "title_cell": "Table of Contents",
   "title_sidebar": "Contents",
   "toc_cell": false,
   "toc_position": {},
   "toc_section_display": true,
   "toc_window_display": true
  }
 },
 "nbformat": 4,
 "nbformat_minor": 1
}
