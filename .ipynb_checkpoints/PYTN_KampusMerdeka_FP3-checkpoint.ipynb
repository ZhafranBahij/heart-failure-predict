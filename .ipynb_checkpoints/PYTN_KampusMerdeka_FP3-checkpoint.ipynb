{
 "cells": [
  {
   "cell_type": "markdown",
   "metadata": {
    "id": "Sze21cPpEJLK"
   },
   "source": [
    "<img src = \"https://rec-data.kalibrr.com/www.kalibrr.ph/logos/SSYTB3EN2CEV9HZDWPPE4JHP8X2T7CNC6SDZST8Y-5d0b4f4b.png\" width = 600>"
   ]
  },
  {
   "cell_type": "markdown",
   "metadata": {
    "id": "pxi1SVhtEimC"
   },
   "source": [
    "# Introduction"
   ]
  },
  {
   "cell_type": "markdown",
   "metadata": {
    "id": "3tfqUzA7u2ye"
   },
   "source": []
  },
  {
   "cell_type": "markdown",
   "metadata": {
    "id": "45456bZVF0Kz"
   },
   "source": [
    "## Project Overview\n",
    "Data ini memiliki 13 atribut. Prediksi keselamatan pasien dari penyakit jantung.\n",
    "\n",
    "#### Attribute Information:\n",
    "1. age - umur pasien\n",
    "2. anaemia - apakah ada pengurangan haemoglobin\n",
    "3. creatinine_phosphokinase - level enzim CPK dalam mcg/L\n",
    "4. diabetes - apakah pasien punya riwayat diabetes\n",
    "5. ejection_fraction - persentase darah yang meninggalkan jantung dalam persentasi\n",
    "di setiap kontraksi jantung\n",
    "6. high_blood_pressure - apakah pasien punya darah tinggi\n",
    "7. platelets - jumlah platelet di darah dalam kiloplatelets/mL\n",
    "8. serum_creatinine - level serum creatinine di darah dalam mg/dL\n",
    "9. serum_sodium - level serum sodium di darah dalam mEq/L\n",
    "10. sex - apakah pasien pria atau wanita\n",
    "11. smoking - apakah pasien merokok\n",
    "12. time - waktu dalam hari untuk follow-up\n",
    "13. DEATH_EVENT - apakah pasien sudah meninggal saat waktu follow-up\n",
    "\n",
    "#### Starting from Scratch\n",
    "Tidak ada template untuk assignment kali ini, jadi kalian harus memulai dari awal. Kamu\n",
    "dapat membuat file jupyter notebook kamu sendiri dan upload ke github ketika selesai:\n",
    "1. Download Dataset yang diperlukan di sini <a href=\"https://www.kaggle.com/datasets/andrewmvd/heart-failure-clinical-data\"><b> klik disini</b></a>, lalu save ke folder\n",
    "/dataset.\n",
    "2. Buat sebuah Notebook baru, lalu rename file menjadi\n",
    "“PYTN_KampusMerdeka_fp3_<nama>\".\n",
    "3. Bersihkan dan preproses Dataset kamu.\n",
    "4. Bangun model menggunakan Logistic Regression, KNN, SVM, Naive Bayes,\n",
    "Decision Tree, dan Random Forest, atau teknik lainnya.\n",
    "5. Pilih 1 algoritma yang kamu anggap paling sesuai lalu jelaskan mengapa.\n",
    "6. Kumpulkan informasi melalui analisis kamu."
   ]
  },
  {
   "cell_type": "markdown",
   "metadata": {
    "id": "5GiS1APcEllK"
   },
   "source": [
    "**Kelompok - Final Project 3 (Introduction to Python Kampus Merdeka)**<br>\n",
    "\n",
    "Anggota Kelompok:\n",
    "\n",
    "1. M. Ihwanul Iqbal<br>\n",
    "PYTN-KS05-004\n",
    "\n",
    "2. Muhammad Zhafran Bahij<br>\n",
    "PYTN-KS05-008\n",
    "\n",
    "**Latar Belakang**<br>\n",
    "Penyakit Cardiovascular (CVDs) adalah penyebab kematian nomor 1 secara global, mengambil sekitar 17,9 juta jiwa setiap tahun, yang menyumbang 31% dari semua kematian di seluruh dunia. Gagal jantung adalah kejadian umum yang disebabkan oleh CVD dan kumpulan data ini berisi 12 fitur yang dapat digunakan untuk memprediksi kematian akibat gagal jantung.\n",
    "\n",
    "Sebagian besar penyakit Cardiovascular dapat dicegah dengan mengatasi faktor risiko perilaku seperti penggunaan tembakau, diet tidak sehat dan obesitas, kurangnya aktivitas fisik, dan penggunaan alkohol yang berbahaya menggunakan strategi di seluruh populasi.\n",
    "\n",
    "Orang dengan penyakit Cardiovascular atau yang berada pada risiko kardiovaskular tinggi (karena adanya satu atau lebih faktor risiko seperti hipertensi, diabetes, hiperlipidemia atau penyakit yang sudah ada) memerlukan deteksi dan manajemen dini di mana model pembelajaran mesin dapat sangat membantu.\n",
    "\n",
    "**Data yang digunakan**<br>\n"
   ]
  },
  {
   "cell_type": "markdown",
   "metadata": {
    "id": "7MV5zcCfGurb"
   },
   "source": [
    "#Import Library"
   ]
  },
  {
   "cell_type": "code",
   "execution_count": 2,
   "metadata": {
    "ExecuteTime": {
     "end_time": "2022-05-27T00:02:47.573890Z",
     "start_time": "2022-05-27T00:02:43.634756Z"
    },
    "colab": {
     "base_uri": "https://localhost:8080/",
     "height": 86
    },
    "executionInfo": {
     "elapsed": 3689,
     "status": "ok",
     "timestamp": 1653608509193,
     "user": {
      "displayName": "M. Zhafran Bahij",
      "userId": "09488152119899300929"
     },
     "user_tz": -420
    },
    "id": "Cmx1JrB7HHZ6",
    "outputId": "f6969ee7-da56-47a9-e779-2f4a07601292"
   },
   "outputs": [
    {
     "data": {
      "text/html": [
       "        <script type=\"text/javascript\">\n",
       "        window.PlotlyConfig = {MathJaxConfig: 'local'};\n",
       "        if (window.MathJax && window.MathJax.Hub && window.MathJax.Hub.Config) {window.MathJax.Hub.Config({SVG: {font: \"STIX-Web\"}});}\n",
       "        if (typeof require !== 'undefined') {\n",
       "        require.undef(\"plotly\");\n",
       "        requirejs.config({\n",
       "            paths: {\n",
       "                'plotly': ['https://cdn.plot.ly/plotly-2.12.1.min']\n",
       "            }\n",
       "        });\n",
       "        require(['plotly'], function(Plotly) {\n",
       "            window._Plotly = Plotly;\n",
       "        });\n",
       "        }\n",
       "        </script>\n",
       "        "
      ]
     },
     "metadata": {},
     "output_type": "display_data"
    },
    {
     "ename": "ModuleNotFoundError",
     "evalue": "No module named 'google'",
     "output_type": "error",
     "traceback": [
      "\u001b[1;31m---------------------------------------------------------------------------\u001b[0m",
      "\u001b[1;31mModuleNotFoundError\u001b[0m                       Traceback (most recent call last)",
      "Input \u001b[1;32mIn [2]\u001b[0m, in \u001b[0;36m<module>\u001b[1;34m\u001b[0m\n\u001b[0;32m     35\u001b[0m \u001b[38;5;28;01mfrom\u001b[39;00m \u001b[38;5;21;01msklearn\u001b[39;00m\u001b[38;5;21;01m.\u001b[39;00m\u001b[38;5;21;01mensemble\u001b[39;00m \u001b[38;5;28;01mimport\u001b[39;00m ExtraTreesClassifier\n\u001b[0;32m     36\u001b[0m \u001b[38;5;28;01mimport\u001b[39;00m \u001b[38;5;21;01mplotly\u001b[39;00m\u001b[38;5;21;01m.\u001b[39;00m\u001b[38;5;21;01mgraph_objects\u001b[39;00m \u001b[38;5;28;01mas\u001b[39;00m \u001b[38;5;21;01mgo\u001b[39;00m\n\u001b[1;32m---> 38\u001b[0m \u001b[38;5;28;01mfrom\u001b[39;00m \u001b[38;5;21;01mgoogle\u001b[39;00m\u001b[38;5;21;01m.\u001b[39;00m\u001b[38;5;21;01mcolab\u001b[39;00m \u001b[38;5;28;01mimport\u001b[39;00m drive\n\u001b[0;32m     39\u001b[0m \u001b[38;5;28;01mfrom\u001b[39;00m \u001b[38;5;21;01mzipfile\u001b[39;00m \u001b[38;5;28;01mimport\u001b[39;00m ZipFile\n\u001b[0;32m     40\u001b[0m \u001b[38;5;28;01mimport\u001b[39;00m \u001b[38;5;21;01mos\u001b[39;00m\n",
      "\u001b[1;31mModuleNotFoundError\u001b[0m: No module named 'google'"
     ]
    },
    {
     "name": "stderr",
     "output_type": "stream",
     "text": [
      "--- Logging error ---\n",
      "Traceback (most recent call last):\n",
      "  File \"C:\\users\\zhafran\\appdata\\local\\programs\\python\\python39\\lib\\site-packages\\ipykernel\\kernelbase.py\", line 461, in dispatch_queue\n",
      "    await self.process_one()\n",
      "  File \"C:\\users\\zhafran\\appdata\\local\\programs\\python\\python39\\lib\\site-packages\\ipykernel\\kernelbase.py\", line 450, in process_one\n",
      "    await dispatch(*args)\n",
      "TypeError: object NoneType can't be used in 'await' expression\n",
      "\n",
      "During handling of the above exception, another exception occurred:\n",
      "\n",
      "Traceback (most recent call last):\n",
      "  File \"C:\\users\\zhafran\\appdata\\local\\programs\\python\\python39\\lib\\logging\\__init__.py\", line 1082, in emit\n",
      "    stream.write(msg + self.terminator)\n",
      "OSError: [Errno 22] Invalid argument\n",
      "Call stack:\n",
      "  File \"C:\\users\\zhafran\\appdata\\local\\programs\\python\\python39\\lib\\runpy.py\", line 197, in _run_module_as_main\n",
      "    return _run_code(code, main_globals, None,\n",
      "  File \"C:\\users\\zhafran\\appdata\\local\\programs\\python\\python39\\lib\\runpy.py\", line 87, in _run_code\n",
      "    exec(code, run_globals)\n",
      "  File \"C:\\users\\zhafran\\appdata\\local\\programs\\python\\python39\\lib\\site-packages\\ipykernel_launcher.py\", line 16, in <module>\n",
      "    app.launch_new_instance()\n",
      "  File \"C:\\users\\zhafran\\appdata\\local\\programs\\python\\python39\\lib\\site-packages\\traitlets\\config\\application.py\", line 846, in launch_instance\n",
      "    app.start()\n",
      "  File \"C:\\users\\zhafran\\appdata\\local\\programs\\python\\python39\\lib\\site-packages\\ipykernel\\kernelapp.py\", line 677, in start\n",
      "    self.io_loop.start()\n",
      "  File \"C:\\users\\zhafran\\appdata\\local\\programs\\python\\python39\\lib\\site-packages\\tornado\\platform\\asyncio.py\", line 199, in start\n",
      "    self.asyncio_loop.run_forever()\n",
      "  File \"C:\\users\\zhafran\\appdata\\local\\programs\\python\\python39\\lib\\asyncio\\base_events.py\", line 596, in run_forever\n",
      "    self._run_once()\n",
      "  File \"C:\\users\\zhafran\\appdata\\local\\programs\\python\\python39\\lib\\asyncio\\base_events.py\", line 1890, in _run_once\n",
      "    handle._run()\n",
      "  File \"C:\\users\\zhafran\\appdata\\local\\programs\\python\\python39\\lib\\asyncio\\events.py\", line 80, in _run\n",
      "    self._context.run(self._callback, *self._args)\n",
      "  File \"C:\\users\\zhafran\\appdata\\local\\programs\\python\\python39\\lib\\site-packages\\ipykernel\\kernelbase.py\", line 463, in dispatch_queue\n",
      "    self.log.exception(\"Error in message handler\")\n",
      "Message: 'Error in message handler'\n",
      "Arguments: ()\n"
     ]
    }
   ],
   "source": [
    "import pandas as pd\n",
    "import numpy as np\n",
    "import matplotlib.pyplot as plt\n",
    "import warnings\n",
    "import seaborn as sns\n",
    "import pickle\n",
    "# from colorama import Fore, Back, Style\n",
    "from sklearn.model_selection import train_test_split\n",
    "from sklearn.metrics import confusion_matrix, accuracy_score, precision_score, recall_score, mean_squared_error, r2_score\n",
    "from mlxtend.plotting import plot_confusion_matrix\n",
    "from plotly.offline import plot, iplot, init_notebook_mode\n",
    "import plotly.graph_objs as go\n",
    "from plotly.subplots import make_subplots\n",
    "import plotly.express as px\n",
    "from statsmodels.formula.api import ols\n",
    "import plotly.graph_objs as gobj\n",
    "\n",
    "init_notebook_mode(connected=True)\n",
    "warnings.filterwarnings(\"ignore\")\n",
    "import plotly.figure_factory as ff\n",
    "\n",
    "%matplotlib inline\n",
    "\n",
    "# import xgboost\n",
    "# import lightgbm\n",
    "from sklearn.svm import SVC\n",
    "from sklearn.ensemble import GradientBoostingClassifier\n",
    "from sklearn.ensemble import RandomForestClassifier\n",
    "from sklearn.tree import DecisionTreeClassifier\n",
    "from sklearn.neighbors import KNeighborsClassifier\n",
    "from sklearn.linear_model import LogisticRegression\n",
    "# from catboost import CatBoostClassifier\n",
    "import joblib\n",
    "\n",
    "from sklearn.ensemble import ExtraTreesClassifier\n",
    "import plotly.graph_objects as go\n",
    "\n",
    "# from google.colab import drive\n",
    "from zipfile import ZipFile\n",
    "import os"
   ]
  },
  {
   "cell_type": "markdown",
   "metadata": {
    "id": "RTEfcZDEQ1Nn"
   },
   "source": [
    "# C. Data Loading"
   ]
  },
  {
   "cell_type": "markdown",
   "metadata": {
    "id": "o4hvDb1OQ8QN"
   },
   "source": [
    "**Mengimport dataset yang akan digunakan**"
   ]
  },
  {
   "cell_type": "code",
   "execution_count": null,
   "metadata": {
    "ExecuteTime": {
     "end_time": "2022-05-27T00:01:23.091545Z",
     "start_time": "2022-05-27T00:01:23.091545Z"
    },
    "executionInfo": {
     "elapsed": 35,
     "status": "ok",
     "timestamp": 1653608509196,
     "user": {
      "displayName": "M. Zhafran Bahij",
      "userId": "09488152119899300929"
     },
     "user_tz": -420
    },
    "id": "F7pWwK1EHH45"
   },
   "outputs": [],
   "source": [
    "\n",
    "# os.environ['KAGGLE_USERNAME'] = 'gethuk'\n",
    "# os.environ['KAGGLE_KEY'] = '555d1f5b08a6d0397d4384718e7c6467'"
   ]
  },
  {
   "cell_type": "code",
   "execution_count": null,
   "metadata": {
    "ExecuteTime": {
     "end_time": "2022-05-27T00:01:23.106745Z",
     "start_time": "2022-05-27T00:01:23.106745Z"
    },
    "colab": {
     "base_uri": "https://localhost:8080/"
    },
    "executionInfo": {
     "elapsed": 1386,
     "status": "ok",
     "timestamp": 1653608510556,
     "user": {
      "displayName": "M. Zhafran Bahij",
      "userId": "09488152119899300929"
     },
     "user_tz": -420
    },
    "id": "CNoLdGj5RwWo",
    "outputId": "88032fe6-1ae7-4da2-f6f5-40dbff345eac"
   },
   "outputs": [],
   "source": [
    "# ! kaggle datasets download -d andrewmvd/heart-failure-clinical-data"
   ]
  },
  {
   "cell_type": "code",
   "execution_count": null,
   "metadata": {
    "ExecuteTime": {
     "end_time": "2022-05-27T00:01:23.111813Z",
     "start_time": "2022-05-27T00:01:23.111813Z"
    },
    "colab": {
     "base_uri": "https://localhost:8080/"
    },
    "executionInfo": {
     "elapsed": 29,
     "status": "ok",
     "timestamp": 1653608510559,
     "user": {
      "displayName": "M. Zhafran Bahij",
      "userId": "09488152119899300929"
     },
     "user_tz": -420
    },
    "id": "HPrRz2YKR7FS",
    "outputId": "45dd8ab0-67d5-4c3b-e050-b271f9348968"
   },
   "outputs": [],
   "source": [
    "# # Ekstrak File berbentuk ZIP\n",
    "\n",
    "\n",
    "# file_name = \"/content/heart-failure-clinical-data.zip\"\n",
    "\n",
    "# with ZipFile(file_name, 'r') as zip : \n",
    "#   zip.extractall()\n",
    "#   print('Ekstrak File Berhasil')"
   ]
  },
  {
   "cell_type": "code",
   "execution_count": null,
   "metadata": {
    "ExecuteTime": {
     "end_time": "2022-05-27T00:01:23.120425Z",
     "start_time": "2022-05-27T00:01:23.120425Z"
    },
    "colab": {
     "base_uri": "https://localhost:8080/"
    },
    "executionInfo": {
     "elapsed": 49605,
     "status": "ok",
     "timestamp": 1653608560143,
     "user": {
      "displayName": "M. Zhafran Bahij",
      "userId": "09488152119899300929"
     },
     "user_tz": -420
    },
    "id": "_-TM2v7gY9MK",
    "outputId": "4ed9e68d-701a-487e-ed6a-8c86a707d9bd"
   },
   "outputs": [],
   "source": [
    "\n",
    "# drive.mount('/content/drive')"
   ]
  },
  {
   "cell_type": "code",
   "execution_count": null,
   "metadata": {
    "ExecuteTime": {
     "end_time": "2022-05-27T00:01:23.125491Z",
     "start_time": "2022-05-27T00:01:23.125491Z"
    },
    "colab": {
     "base_uri": "https://localhost:8080/",
     "height": 270
    },
    "executionInfo": {
     "elapsed": 152,
     "status": "ok",
     "timestamp": 1653608560148,
     "user": {
      "displayName": "M. Zhafran Bahij",
      "userId": "09488152119899300929"
     },
     "user_tz": -420
    },
    "id": "9XOkzXVmSW4f",
    "outputId": "a52b1177-a018-4aa1-f5c4-4d19e2dfbf82"
   },
   "outputs": [],
   "source": [
    "df = pd.read_csv('heart_failure_clinical_records_dataset.csv')\n",
    "df.head()"
   ]
  },
  {
   "cell_type": "markdown",
   "metadata": {
    "id": "OgbaPU963Ed7"
   },
   "source": [
    "# D. Data Cleaning"
   ]
  },
  {
   "cell_type": "code",
   "execution_count": null,
   "metadata": {
    "ExecuteTime": {
     "end_time": "2022-05-27T00:01:23.129546Z",
     "start_time": "2022-05-27T00:01:23.129546Z"
    },
    "colab": {
     "base_uri": "https://localhost:8080/"
    },
    "executionInfo": {
     "elapsed": 142,
     "status": "ok",
     "timestamp": 1653608560149,
     "user": {
      "displayName": "M. Zhafran Bahij",
      "userId": "09488152119899300929"
     },
     "user_tz": -420
    },
    "id": "Z8PjtgvVSvf2",
    "outputId": "21abd72b-7a2e-4f50-c0d9-ec1e17aacd78"
   },
   "outputs": [],
   "source": [
    "df.shape"
   ]
  },
  {
   "cell_type": "code",
   "execution_count": null,
   "metadata": {
    "ExecuteTime": {
     "end_time": "2022-05-27T00:01:23.137651Z",
     "start_time": "2022-05-27T00:01:23.137651Z"
    },
    "colab": {
     "base_uri": "https://localhost:8080/"
    },
    "executionInfo": {
     "elapsed": 138,
     "status": "ok",
     "timestamp": 1653608560153,
     "user": {
      "displayName": "M. Zhafran Bahij",
      "userId": "09488152119899300929"
     },
     "user_tz": -420
    },
    "id": "z0trreptU-Jh",
    "outputId": "3740ecb5-7bf0-4dc7-e980-39010909bc6c"
   },
   "outputs": [],
   "source": [
    "df.info()"
   ]
  },
  {
   "cell_type": "code",
   "execution_count": null,
   "metadata": {
    "ExecuteTime": {
     "end_time": "2022-05-27T00:01:23.142211Z",
     "start_time": "2022-05-27T00:01:23.142211Z"
    },
    "colab": {
     "base_uri": "https://localhost:8080/",
     "height": 364
    },
    "executionInfo": {
     "elapsed": 133,
     "status": "ok",
     "timestamp": 1653608560156,
     "user": {
      "displayName": "M. Zhafran Bahij",
      "userId": "09488152119899300929"
     },
     "user_tz": -420
    },
    "id": "oDW1O4C4VCp-",
    "outputId": "4382c216-cfa3-4887-f3b4-ce627857377d"
   },
   "outputs": [],
   "source": [
    "df.describe()"
   ]
  },
  {
   "cell_type": "code",
   "execution_count": null,
   "metadata": {
    "ExecuteTime": {
     "end_time": "2022-05-27T00:01:23.150824Z",
     "start_time": "2022-05-27T00:01:23.150316Z"
    },
    "colab": {
     "base_uri": "https://localhost:8080/"
    },
    "executionInfo": {
     "elapsed": 132,
     "status": "ok",
     "timestamp": 1653608560159,
     "user": {
      "displayName": "M. Zhafran Bahij",
      "userId": "09488152119899300929"
     },
     "user_tz": -420
    },
    "id": "zn0uu8wMrAna",
    "outputId": "071e2a39-5b93-4002-a138-0ca78bc5cda1"
   },
   "outputs": [],
   "source": [
    "df.isnull().sum()"
   ]
  },
  {
   "cell_type": "markdown",
   "metadata": {
    "id": "cmOGkIOA2vHI"
   },
   "source": [
    "# E. Eksplorasi Data"
   ]
  },
  {
   "cell_type": "code",
   "execution_count": null,
   "metadata": {
    "ExecuteTime": {
     "end_time": "2022-05-27T00:01:23.155891Z",
     "start_time": "2022-05-27T00:01:23.155891Z"
    },
    "colab": {
     "base_uri": "https://localhost:8080/",
     "height": 409
    },
    "executionInfo": {
     "elapsed": 1709,
     "status": "ok",
     "timestamp": 1653608561745,
     "user": {
      "displayName": "M. Zhafran Bahij",
      "userId": "09488152119899300929"
     },
     "user_tz": -420
    },
    "id": "HMPIb3JPzh3D",
    "outputId": "f05e6f59-6902-4927-c69d-107f25cd5a13"
   },
   "outputs": [],
   "source": [
    "# Feature Selection\n",
    "\n",
    "plt.rcParams['figure.figsize']=15,6 \n",
    "sns.set_style(\"darkgrid\")\n",
    "\n",
    "x = df.iloc[:, :-1]\n",
    "y = df.iloc[:,-1]\n",
    "\n",
    "model = ExtraTreesClassifier()\n",
    "model.fit(x,y)\n",
    "print(model.feature_importances_) \n",
    "feat_importances = pd.Series(model.feature_importances_, index=x.columns)\n",
    "feat_importances.nlargest(12).plot(kind='barh')\n",
    "plt.show()"
   ]
  },
  {
   "cell_type": "code",
   "execution_count": null,
   "metadata": {
    "ExecuteTime": {
     "end_time": "2022-05-27T00:01:23.160451Z",
     "start_time": "2022-05-27T00:01:23.160451Z"
    },
    "executionInfo": {
     "elapsed": 153,
     "status": "ok",
     "timestamp": 1653608561765,
     "user": {
      "displayName": "M. Zhafran Bahij",
      "userId": "09488152119899300929"
     },
     "user_tz": -420
    },
    "id": "uNaRtCptqigq"
   },
   "outputs": [],
   "source": [
    "# Kami hanya akan memilih 3 fitur: time, ejection_fraction, serum_creatine\n"
   ]
  },
  {
   "cell_type": "code",
   "execution_count": null,
   "metadata": {
    "ExecuteTime": {
     "end_time": "2022-05-27T00:01:23.169065Z",
     "start_time": "2022-05-27T00:01:23.169065Z"
    },
    "colab": {
     "base_uri": "https://localhost:8080/",
     "height": 389
    },
    "executionInfo": {
     "elapsed": 158,
     "status": "ok",
     "timestamp": 1653608561777,
     "user": {
      "displayName": "M. Zhafran Bahij",
      "userId": "09488152119899300929"
     },
     "user_tz": -420
    },
    "id": "qQ28mFKhsBZT",
    "outputId": "2134d011-98dc-4f41-b258-35fd0b7885d0"
   },
   "outputs": [],
   "source": [
    "# Boxplot for ejection_fraction\n",
    "\n",
    "sns.boxplot(x = df.ejection_fraction, color = 'teal')\n",
    "plt.show()"
   ]
  },
  {
   "cell_type": "code",
   "execution_count": null,
   "metadata": {
    "ExecuteTime": {
     "end_time": "2022-05-27T00:01:23.210105Z",
     "start_time": "2022-05-27T00:01:23.210105Z"
    },
    "colab": {
     "base_uri": "https://localhost:8080/",
     "height": 176
    },
    "executionInfo": {
     "elapsed": 154,
     "status": "ok",
     "timestamp": 1653608561779,
     "user": {
      "displayName": "M. Zhafran Bahij",
      "userId": "09488152119899300929"
     },
     "user_tz": -420
    },
    "id": "izbMrTxdsUgA",
    "outputId": "95632e9e-48d4-49ff-8e6b-8cd256e0359e"
   },
   "outputs": [],
   "source": [
    "df[df['ejection_fraction']>=70]"
   ]
  },
  {
   "cell_type": "code",
   "execution_count": null,
   "metadata": {
    "ExecuteTime": {
     "end_time": "2022-05-27T00:01:23.217730Z",
     "start_time": "2022-05-27T00:01:23.217730Z"
    },
    "colab": {
     "base_uri": "https://localhost:8080/",
     "height": 388
    },
    "executionInfo": {
     "elapsed": 157,
     "status": "ok",
     "timestamp": 1653608561786,
     "user": {
      "displayName": "M. Zhafran Bahij",
      "userId": "09488152119899300929"
     },
     "user_tz": -420
    },
    "id": "Nv2UKMu5tE3E",
    "outputId": "a2d4acbc-1091-4618-97cd-bfb667cd98bc"
   },
   "outputs": [],
   "source": [
    "df = df[df['ejection_fraction']<70]\n",
    "sns.boxplot(x=df.time, color = 'teal')\n",
    "plt.show()"
   ]
  },
  {
   "cell_type": "code",
   "execution_count": null,
   "metadata": {
    "ExecuteTime": {
     "end_time": "2022-05-27T00:01:23.221757Z",
     "start_time": "2022-05-27T00:01:23.221757Z"
    },
    "colab": {
     "base_uri": "https://localhost:8080/",
     "height": 389
    },
    "executionInfo": {
     "elapsed": 156,
     "status": "ok",
     "timestamp": 1653608561790,
     "user": {
      "displayName": "M. Zhafran Bahij",
      "userId": "09488152119899300929"
     },
     "user_tz": -420
    },
    "id": "XFNF3rgPtU0z",
    "outputId": "f746730d-8862-4369-c5a2-1e48479aabf7"
   },
   "outputs": [],
   "source": [
    "# Boxplot for ejection_fraction\n",
    "sns.boxplot(x=df.serum_creatinine, color = 'teal')\n",
    "plt.show()"
   ]
  },
  {
   "cell_type": "code",
   "execution_count": null,
   "metadata": {
    "ExecuteTime": {
     "end_time": "2022-05-27T00:01:23.225812Z",
     "start_time": "2022-05-27T00:01:23.225812Z"
    },
    "colab": {
     "base_uri": "https://localhost:8080/",
     "height": 542
    },
    "executionInfo": {
     "elapsed": 1898,
     "status": "ok",
     "timestamp": 1653608563536,
     "user": {
      "displayName": "M. Zhafran Bahij",
      "userId": "09488152119899300929"
     },
     "user_tz": -420
    },
    "id": "BeCzhfJgtrRl",
    "outputId": "a8b6ffba-f9ce-406f-a85a-ed7a42aa3553"
   },
   "outputs": [],
   "source": [
    "\n",
    "\n",
    "fig = go.Figure()\n",
    "fig.add_trace(go.Histogram(\n",
    "    x = df['age'],\n",
    "    xbins=dict( # bins used for histogram\n",
    "        start=40,\n",
    "        end=95,\n",
    "        size=2\n",
    "    ),\n",
    "    marker_color='#e8ab60',\n",
    "    opacity=1\n",
    "))\n",
    "\n",
    "fig.update_layout(\n",
    "    title_text='AGE DISTRIBUTION',\n",
    "    xaxis_title_text='AGE',\n",
    "    yaxis_title_text='COUNT', \n",
    "    bargap=0.05, # gap between bars of adjacent location coordinates\n",
    "    xaxis =  {'showgrid': False },\n",
    "    yaxis = {'showgrid': False },\n",
    "    template = 'plotly_dark'\n",
    ")\n",
    "\n",
    "fig.show()"
   ]
  },
  {
   "cell_type": "code",
   "execution_count": null,
   "metadata": {
    "ExecuteTime": {
     "end_time": "2022-05-27T00:01:23.230877Z",
     "start_time": "2022-05-27T00:01:23.230877Z"
    },
    "colab": {
     "base_uri": "https://localhost:8080/",
     "height": 517
    },
    "executionInfo": {
     "elapsed": 243,
     "status": "ok",
     "timestamp": 1653608563543,
     "user": {
      "displayName": "M. Zhafran Bahij",
      "userId": "09488152119899300929"
     },
     "user_tz": -420
    },
    "id": "x-tqw9qQujpF",
    "outputId": "604a2189-9cf5-4b25-c3b8-f0cf01c21f7b"
   },
   "outputs": [],
   "source": [
    "\n",
    "\n",
    "d1 = df[(df[\"DEATH_EVENT\"]==0) & (df[\"sex\"]==1)]\n",
    "d2 = df[(df[\"DEATH_EVENT\"]==1) & (df[\"sex\"]==1)]\n",
    "d3 = df[(df[\"DEATH_EVENT\"]==0) & (df[\"sex\"]==0)]\n",
    "d4 = df[(df[\"DEATH_EVENT\"]==1) & (df[\"sex\"]==0)]\n",
    "\n",
    "label1 = [\"Male\",\"Female\"]\n",
    "label2 = ['Male - Survived','Male - Died', \"Female -  Survived\", \"Female - Died\"]\n",
    "values1 = [(len(d1)+len(d2)), (len(d3)+len(d4))]\n",
    "values2 = [len(d1),len(d2),len(d3),len(d4)]\n",
    "\n",
    "# Create subplots: use 'domain' type for Pie subplot\n",
    "fig = make_subplots(rows=1, cols=2, specs=[[{'type':'domain'}, {'type':'domain'}]])\n",
    "fig.add_trace(go.Pie(labels=label1, values=values1, name=\"GENDER\"),\n",
    "              1, 1)\n",
    "fig.add_trace(go.Pie(labels=label2, values=values2, name=\"GENDER VS DEATH_EVENT\"),\n",
    "              1, 2)\n",
    "\n",
    "# Use `hole` to create a donut-like pie chart\n",
    "fig.update_traces(hole=.4, hoverinfo=\"label+percent\")\n",
    "\n",
    "fig.update_layout(\n",
    "    title_text=\"GENDER DISTRIBUTION IN THE DATASET  \\\n",
    "                   GENDER VS DEATH_EVENT\",\n",
    "    # Add annotations in the center of the donut pies.\n",
    "    annotations=[dict(text='GENDER', x=0.19, y=0.5, font_size=10, showarrow=False),\n",
    "                 dict(text='GENDER VS DEATH_EVENT', x=0.84, y=0.5, font_size=9, showarrow=False)],\n",
    "    autosize=False,width=1200, height=500, paper_bgcolor=\"white\")\n",
    "\n",
    "fig.show()"
   ]
  },
  {
   "cell_type": "code",
   "execution_count": null,
   "metadata": {
    "ExecuteTime": {
     "end_time": "2022-05-27T00:01:23.238478Z",
     "start_time": "2022-05-27T00:01:23.238478Z"
    },
    "colab": {
     "base_uri": "https://localhost:8080/",
     "height": 542
    },
    "executionInfo": {
     "elapsed": 249,
     "status": "ok",
     "timestamp": 1653608563559,
     "user": {
      "displayName": "M. Zhafran Bahij",
      "userId": "09488152119899300929"
     },
     "user_tz": -420
    },
    "id": "Jkfz7jsUuFv8",
    "outputId": "d49349a9-cafb-4451-ac74-f651680808f6"
   },
   "outputs": [],
   "source": [
    "# Now lets categorize the above histogram by DEATH_EVENT\n",
    "\n",
    "fig = px.histogram(df, x=\"age\", color=\"DEATH_EVENT\", marginal=\"violin\", hover_data=df.columns, \n",
    "                   title =\"Distribution of AGE Vs DEATH_EVENT\", \n",
    "                   labels={\"age\": \"AGE\"},\n",
    "                   template=\"plotly_dark\",\n",
    "                   color_discrete_map={\"0\": \"RebeccaPurple\", \"1\": \"MediumPurple\"}\n",
    "                  )\n",
    "fig.show()"
   ]
  },
  {
   "cell_type": "markdown",
   "metadata": {
    "id": "-2Bi8Xmz2Xt6"
   },
   "source": [
    "# F. Data Preprocessing"
   ]
  },
  {
   "cell_type": "markdown",
   "metadata": {
    "id": "8c2_AWK54wcz"
   },
   "source": [
    "Split data menjadi X_train, X_test, Y_train, Y_test"
   ]
  },
  {
   "cell_type": "code",
   "execution_count": null,
   "metadata": {
    "ExecuteTime": {
     "end_time": "2022-05-27T00:01:23.243037Z",
     "start_time": "2022-05-27T00:01:23.243037Z"
    },
    "executionInfo": {
     "elapsed": 251,
     "status": "ok",
     "timestamp": 1653608563567,
     "user": {
      "displayName": "M. Zhafran Bahij",
      "userId": "09488152119899300929"
     },
     "user_tz": -420
    },
    "id": "0rGhIMfa47Ah"
   },
   "outputs": [],
   "source": [
    "X_train, X_test, y_train, y_test = train_test_split(df.drop(columns=\"DEATH_EVENT\"), df[\"DEATH_EVENT\"], train_size=0.8, random_state=69)"
   ]
  },
  {
   "cell_type": "markdown",
   "metadata": {
    "id": "DFebe7Ed9RLV"
   },
   "source": [
    "Tidak ada proses encode dikarenakan data yang di sini sudah berbentuk numerik."
   ]
  },
  {
   "cell_type": "markdown",
   "metadata": {
    "id": "0hjgn2NB9vtI"
   },
   "source": [
    "# G. Pendefinisian Model"
   ]
  },
  {
   "cell_type": "markdown",
   "metadata": {
    "id": "piReoKD--UCT"
   },
   "source": [
    "Dalam projek kali ini, model yang digunakan adalah *random forest*. Secara teknis, random forest adalah ensemble method jika mengacu kepada pendekatan divide and conquer dari decision trees yang dihasilkan pada dataset dan dipisahkan secara terpisah. (Sumber : Kode.id)\n",
    "\n"
   ]
  },
  {
   "cell_type": "markdown",
   "metadata": {
    "id": "GlTjyGNHAAgo"
   },
   "source": [
    "Pada projek kali ini, kita akan menggunakan\n",
    "\n",
    "*   n_estimators = 100\n",
    "*   max_depth = 50\n",
    "*   criterion = gini or entropy\n",
    "\n",
    "Alasan criterion-nya banyak karena nantinya akan diteliti satu persatu yang mana yang terbaik\n",
    "\n"
   ]
  },
  {
   "cell_type": "markdown",
   "metadata": {
    "id": "aMJr7EkbAZcR"
   },
   "source": [
    "# H Pelatihan Model"
   ]
  },
  {
   "cell_type": "markdown",
   "metadata": {
    "id": "XoKPy85VDhts"
   },
   "source": [
    "Pelatihan model akan dilakukan sesuai criterion masing-masing dengan nama model : \n",
    "\n",
    "*   rf_entropy\n",
    "*   rf_gini\n",
    "\n"
   ]
  },
  {
   "cell_type": "code",
   "execution_count": null,
   "metadata": {
    "ExecuteTime": {
     "end_time": "2022-05-27T00:01:23.251144Z",
     "start_time": "2022-05-27T00:01:23.251144Z"
    },
    "executionInfo": {
     "elapsed": 252,
     "status": "ok",
     "timestamp": 1653608563570,
     "user": {
      "displayName": "M. Zhafran Bahij",
      "userId": "09488152119899300929"
     },
     "user_tz": -420
    },
    "id": "NbkMJnFD93lg"
   },
   "outputs": [],
   "source": [
    "# Buat modelnya\n",
    "rf_gini = RandomForestClassifier(max_depth=50, criterion='gini').fit(X_train, y_train)"
   ]
  },
  {
   "cell_type": "code",
   "execution_count": null,
   "metadata": {
    "ExecuteTime": {
     "end_time": "2022-05-27T00:01:23.255198Z",
     "start_time": "2022-05-27T00:01:23.255198Z"
    },
    "executionInfo": {
     "elapsed": 252,
     "status": "ok",
     "timestamp": 1653608563572,
     "user": {
      "displayName": "M. Zhafran Bahij",
      "userId": "09488152119899300929"
     },
     "user_tz": -420
    },
    "id": "dOnBLPVJKcbY"
   },
   "outputs": [],
   "source": [
    "# Buat model\n",
    "rf_entropy = RandomForestClassifier(max_depth=50, criterion='entropy').fit(X_train, y_train)"
   ]
  },
  {
   "cell_type": "markdown",
   "metadata": {
    "id": "_LwB95g_LAOU"
   },
   "source": [
    "# I Evaluasi Model"
   ]
  },
  {
   "cell_type": "markdown",
   "metadata": {
    "id": "wqczNXkmLGLn"
   },
   "source": [
    "Sebelum buat evaluasinya, kita akan buat fungsi intinya agar bisa menerapkan sesuatu yang namanya DRY (Don't Repeat Yourself).\n",
    "\n",
    "Di sini, kita akan mengevaluasi berdasarkan\n",
    "\n",
    "*   Accuracy Score\n",
    "*   Precision Score\n",
    "*   Recall Score\n",
    "\n",
    "Accuracy score untuk mengetes akurasi dari model. \n",
    "\n",
    "Precision Score adalah skor berapa persen model ini keliru menebak. Misalnya, yang harusnya gambar bebek, model tersebut menebaknya menjadi gambar ayam.\n",
    "\n",
    "Recall Score adalah skor berapa persen model tersebut menebak dengan tebakan tepat. Penjelasan mudahnya seperti, ada 10 gambar ayam, tetapi model tersebut menganggap hanya ada 8 gambar ayam.\n"
   ]
  },
  {
   "cell_type": "code",
   "execution_count": null,
   "metadata": {
    "ExecuteTime": {
     "end_time": "2022-05-27T00:01:23.259758Z",
     "start_time": "2022-05-27T00:01:23.259758Z"
    },
    "executionInfo": {
     "elapsed": 251,
     "status": "ok",
     "timestamp": 1653608563573,
     "user": {
      "displayName": "M. Zhafran Bahij",
      "userId": "09488152119899300929"
     },
     "user_tz": -420
    },
    "id": "jDEGeW5zLT0L"
   },
   "outputs": [],
   "source": [
    "def modeling_function(model, X_test, y_test):\n",
    "    # Buat hasil prediksi\n",
    "    predicted = model.predict(X_test)\n",
    "    print('Data Prediksi : ', predicted)\n",
    "\n",
    "    # Pengecekan akurasi\n",
    "    print('')\n",
    "    data = [\n",
    "        accuracy_score(y_test, predicted),\n",
    "        precision_score(y_test, predicted),\n",
    "        recall_score(y_test, predicted),\n",
    "        r2_score(y_test, predicted),\n",
    "        mean_squared_error(y_test, predicted)\n",
    "    ]\n",
    "\n",
    "    labels = [\n",
    "        'Accuration', 'Precision', 'Recall', 'R2 Score', 'Mean Squared Error'\n",
    "    ]\n",
    "\n",
    "    for x in range(len(labels)):\n",
    "        print(labels[x], \" : \", data[x])\n",
    "\n",
    "    print('Confusion Matrix : \\n', confusion_matrix(y_test, predicted))\n",
    "\n",
    "    names = labels\n",
    "    values = data\n",
    "\n",
    "    plt.figure(figsize=(9, 3))\n",
    "    plt.title('Check Some Information About Precision, Accuration, Recall')\n",
    "    plt.xlabel('Calculation')\n",
    "    plt.ylabel('Score')\n",
    "    plt.bar(names, values)\n",
    "    plt.show()\n",
    "    \n",
    "    return data\n"
   ]
  },
  {
   "cell_type": "code",
   "execution_count": null,
   "metadata": {
    "ExecuteTime": {
     "end_time": "2022-05-27T00:01:23.263305Z",
     "start_time": "2022-05-27T00:01:23.263305Z"
    },
    "colab": {
     "base_uri": "https://localhost:8080/",
     "height": 432
    },
    "executionInfo": {
     "elapsed": 251,
     "status": "ok",
     "timestamp": 1653608563575,
     "user": {
      "displayName": "M. Zhafran Bahij",
      "userId": "09488152119899300929"
     },
     "user_tz": -420
    },
    "id": "5xsLijzMMGPH",
    "outputId": "fa795f12-e8f3-42a8-cff7-d609abd322af"
   },
   "outputs": [],
   "source": [
    "data = modeling_function(rf_gini, X_test, y_test)"
   ]
  },
  {
   "cell_type": "code",
   "execution_count": null,
   "metadata": {
    "ExecuteTime": {
     "end_time": "2022-05-27T00:01:23.284077Z",
     "start_time": "2022-05-27T00:01:23.284077Z"
    },
    "colab": {
     "base_uri": "https://localhost:8080/",
     "height": 432
    },
    "executionInfo": {
     "elapsed": 237,
     "status": "ok",
     "timestamp": 1653608563577,
     "user": {
      "displayName": "M. Zhafran Bahij",
      "userId": "09488152119899300929"
     },
     "user_tz": -420
    },
    "id": "LJ12PHSOMPAH",
    "outputId": "9a723e54-14ec-4ec1-94f5-fe7022c57aaf"
   },
   "outputs": [],
   "source": [
    "data = modeling_function(rf_entropy, X_test, y_test)"
   ]
  },
  {
   "cell_type": "markdown",
   "metadata": {
    "id": "d3kBhy8wZIqH"
   },
   "source": [
    "Pada percobaan di atas, kita telah mengetahui bahwa model random forest entropy lebih baik dibandingkan random forest gini, sehingga model yang akan digunakan saat deploying adalah random forest entropy\n"
   ]
  },
  {
   "cell_type": "code",
   "execution_count": null,
   "metadata": {
    "ExecuteTime": {
     "end_time": "2022-05-27T00:01:23.288130Z",
     "start_time": "2022-05-27T00:01:23.288130Z"
    },
    "colab": {
     "base_uri": "https://localhost:8080/"
    },
    "executionInfo": {
     "elapsed": 229,
     "status": "ok",
     "timestamp": 1653608563578,
     "user": {
      "displayName": "M. Zhafran Bahij",
      "userId": "09488152119899300929"
     },
     "user_tz": -420
    },
    "id": "yu30F_9OE5Jo",
    "outputId": "ac858fa8-555d-46a3-f61b-cfb6288c9e00"
   },
   "outputs": [
    {
     "name": "stderr",
     "output_type": "stream",
     "text": [
      "--- Logging error ---\n",
      "Traceback (most recent call last):\n",
      "  File \"C:\\users\\zhafran\\appdata\\local\\programs\\python\\python39\\lib\\site-packages\\ipykernel\\kernelbase.py\", line 461, in dispatch_queue\n",
      "    await self.process_one()\n",
      "  File \"C:\\users\\zhafran\\appdata\\local\\programs\\python\\python39\\lib\\site-packages\\ipykernel\\kernelbase.py\", line 450, in process_one\n",
      "    await dispatch(*args)\n",
      "TypeError: object NoneType can't be used in 'await' expression\n",
      "\n",
      "During handling of the above exception, another exception occurred:\n",
      "\n",
      "Traceback (most recent call last):\n",
      "  File \"C:\\users\\zhafran\\appdata\\local\\programs\\python\\python39\\lib\\logging\\__init__.py\", line 1082, in emit\n",
      "    stream.write(msg + self.terminator)\n",
      "OSError: [Errno 22] Invalid argument\n",
      "Call stack:\n",
      "  File \"C:\\users\\zhafran\\appdata\\local\\programs\\python\\python39\\lib\\runpy.py\", line 197, in _run_module_as_main\n",
      "    return _run_code(code, main_globals, None,\n",
      "  File \"C:\\users\\zhafran\\appdata\\local\\programs\\python\\python39\\lib\\runpy.py\", line 87, in _run_code\n",
      "    exec(code, run_globals)\n",
      "  File \"C:\\users\\zhafran\\appdata\\local\\programs\\python\\python39\\lib\\site-packages\\ipykernel_launcher.py\", line 16, in <module>\n",
      "    app.launch_new_instance()\n",
      "  File \"C:\\users\\zhafran\\appdata\\local\\programs\\python\\python39\\lib\\site-packages\\traitlets\\config\\application.py\", line 846, in launch_instance\n",
      "    app.start()\n",
      "  File \"C:\\users\\zhafran\\appdata\\local\\programs\\python\\python39\\lib\\site-packages\\ipykernel\\kernelapp.py\", line 677, in start\n",
      "    self.io_loop.start()\n",
      "  File \"C:\\users\\zhafran\\appdata\\local\\programs\\python\\python39\\lib\\site-packages\\tornado\\platform\\asyncio.py\", line 199, in start\n",
      "    self.asyncio_loop.run_forever()\n",
      "  File \"C:\\users\\zhafran\\appdata\\local\\programs\\python\\python39\\lib\\asyncio\\base_events.py\", line 596, in run_forever\n",
      "    self._run_once()\n",
      "  File \"C:\\users\\zhafran\\appdata\\local\\programs\\python\\python39\\lib\\asyncio\\base_events.py\", line 1890, in _run_once\n",
      "    handle._run()\n",
      "  File \"C:\\users\\zhafran\\appdata\\local\\programs\\python\\python39\\lib\\asyncio\\events.py\", line 80, in _run\n",
      "    self._context.run(self._callback, *self._args)\n",
      "  File \"C:\\users\\zhafran\\appdata\\local\\programs\\python\\python39\\lib\\site-packages\\ipykernel\\kernelbase.py\", line 463, in dispatch_queue\n",
      "    self.log.exception(\"Error in message handler\")\n",
      "Message: 'Error in message handler'\n",
      "Arguments: ()\n"
     ]
    }
   ],
   "source": [
    "joblib.dump(rf_entropy, \"./random_forest.joblib\")"
   ]
  },
  {
   "cell_type": "markdown",
   "metadata": {
    "id": "SEgFNZmodOmp"
   },
   "source": [
    "# I. Model Inference"
   ]
  },
  {
   "cell_type": "markdown",
   "metadata": {
    "id": "s5HTWtXsdUIl"
   },
   "source": [
    "Model yang sudah dilatih, tentunya akan dicoba dengan data berasal dari user web pada link berikut."
   ]
  },
  {
   "cell_type": "markdown",
   "metadata": {
    "id": "N4APuIoNcJ5b"
   },
   "source": [
    "# K. Kesimpulan"
   ]
  },
  {
   "cell_type": "markdown",
   "metadata": {
    "id": "BMe4oAUkcRzV"
   },
   "source": [
    "Kesimpulannya adalah ...\n",
    "\n",
    "*   Dataset sudah bersih dan hanya berisi angka sehinggat tidak perlu di encode dan dibersihkan.\n",
    "*   Pada kasus ini, random forest dengan criterion entropy lebih baik dibandingkan criterion gini.\n",
    "\n"
   ]
  }
 ],
 "metadata": {
  "accelerator": "GPU",
  "colab": {
   "collapsed_sections": [],
   "name": "PYTN_KampusMerdeka_FP3.ipynb",
   "provenance": []
  },
  "kernelspec": {
   "display_name": "Python 3 (ipykernel)",
   "language": "python",
   "name": "python3"
  },
  "language_info": {
   "codemirror_mode": {
    "name": "ipython",
    "version": 3
   },
   "file_extension": ".py",
   "mimetype": "text/x-python",
   "name": "python",
   "nbconvert_exporter": "python",
   "pygments_lexer": "ipython3",
   "version": "3.9.2"
  },
  "latex_envs": {
   "LaTeX_envs_menu_present": true,
   "autoclose": false,
   "autocomplete": true,
   "bibliofile": "biblio.bib",
   "cite_by": "apalike",
   "current_citInitial": 1,
   "eqLabelWithNumbers": true,
   "eqNumInitial": 1,
   "hotkeys": {
    "equation": "Ctrl-E",
    "itemize": "Ctrl-I"
   },
   "labels_anchors": false,
   "latex_user_defs": false,
   "report_style_numbering": false,
   "user_envs_cfg": false
  },
  "toc": {
   "base_numbering": 1,
   "nav_menu": {},
   "number_sections": true,
   "sideBar": true,
   "skip_h1_title": false,
   "title_cell": "Table of Contents",
   "title_sidebar": "Contents",
   "toc_cell": false,
   "toc_position": {},
   "toc_section_display": true,
   "toc_window_display": true
  }
 },
 "nbformat": 4,
 "nbformat_minor": 1
}
